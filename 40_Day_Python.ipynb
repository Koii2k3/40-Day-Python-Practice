{
  "cells": [
    {
      "cell_type": "markdown",
      "metadata": {
        "id": "Gr4o1R2rl7ig"
      },
      "source": [
        "# Day 1\n",
        "Link: https://web.facebook.com/photo/?fbid=398598566049272&set=gm.1057677215291587&idorvanity=917108736015103"
      ]
    },
    {
      "cell_type": "code",
      "execution_count": null,
      "metadata": {
        "colab": {
          "base_uri": "https://localhost:8080/"
        },
        "id": "uih1aoxMko5J",
        "outputId": "24890821-ccb4-4b35-cecc-ec2bf16f38cf"
      },
      "outputs": [
        {
          "output_type": "stream",
          "name": "stdout",
          "text": [
            "Ất Tỵ\n",
            "Giáp Thìn\n",
            "Quý Mẹo\n"
          ]
        }
      ],
      "source": [
        "def calculate_can_chi_calendar(year):\n",
        "  can = [\"Canh\", \"Tân\", \"Nhâm\", \"Quý\", \"Giáp\", \"Ất\", \"Bính\", \"Đinh\", \"Mậu\", \"Kỷ\"]\n",
        "  chi = [\"Thân\", \"Dậu\", \"Tuất\", \"Hợi\", \"Tý\", \"Sửu\", \"Dần\", \"Mẹo\", \"Thìn\", \"Tỵ\", \"Ngọ\", \"Mùi\"]\n",
        "  return can[year % 10] + \" \" + chi[year % 12]\n",
        "\n",
        "print(calculate_can_chi_calendar(2025))\n",
        "print(calculate_can_chi_calendar(2024))\n",
        "print(calculate_can_chi_calendar(2023))"
      ]
    },
    {
      "cell_type": "markdown",
      "metadata": {
        "id": "15S1XfPonHsV"
      },
      "source": [
        "# Day 2\n",
        "Link: https://web.facebook.com/dinhquangvinh86/videos/1129151448257905?idorvanity=917108736015103"
      ]
    },
    {
      "cell_type": "markdown",
      "metadata": {
        "id": "UJo2_VZ-uMIH"
      },
      "source": [
        "![image.png](data:image/png;base64,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)"
      ]
    },
    {
      "cell_type": "markdown",
      "metadata": {
        "id": "3Xx0-wLeuN8y"
      },
      "source": [
        "# Day 3\n",
        "Link: https://web.facebook.com/photo/?fbid=399657085943420&set=gm.1058681145191194&idorvanity=917108736015103"
      ]
    },
    {
      "cell_type": "code",
      "execution_count": null,
      "metadata": {
        "colab": {
          "base_uri": "https://localhost:8080/"
        },
        "id": "edXVk2HJuNez",
        "outputId": "8514311d-d088-4692-ffe0-fbb845dfd83e"
      },
      "outputs": [
        {
          "output_type": "stream",
          "name": "stdout",
          "text": [
            "x1= -2.0, x2= -1.0\n",
            "x1= x2= -1.0\n",
            "No solution\n",
            "x= -2.0\n"
          ]
        }
      ],
      "source": [
        "def quadratic_equation(a, b, c):\n",
        "  if a == 0:\n",
        "    return f'x= {-c/b}'\n",
        "\n",
        "  delta = b**2 - 4*a*c\n",
        "  if delta > 0: return f'x1= {(-b - delta**0.5)/(2*a)}, x2= {(-b + delta**0.5)/(2*a)}'\n",
        "  elif delta == 0: return f'x1= x2= {-b/2*a}'\n",
        "  else: return f'No solution'\n",
        "\n",
        "print(quadratic_equation(2, 6, 4))\n",
        "print(quadratic_equation(1, 2, 1))\n",
        "print(quadratic_equation(4, 6, 3))\n",
        "print(quadratic_equation(0, 1, 2))"
      ]
    },
    {
      "cell_type": "markdown",
      "metadata": {
        "id": "HC4_nNSyxcrK"
      },
      "source": [
        "# Day 4\n",
        "Link: https://web.facebook.com/dinhquangvinh86/videos/2064394427271852?idorvanity=917108736015103"
      ]
    },
    {
      "cell_type": "code",
      "execution_count": null,
      "metadata": {
        "colab": {
          "base_uri": "https://localhost:8080/"
        },
        "id": "hPiG0Pwvxs2Z",
        "outputId": "f521759e-9263-4536-cea1-a342ff5563cc"
      },
      "outputs": [
        {
          "output_type": "stream",
          "name": "stdout",
          "text": [
            "AIO2024\n",
            "AIO2024\n",
            "AIO\n",
            "    2024\n"
          ]
        }
      ],
      "source": [
        "string1 = 'AIO2024'\n",
        "string2 = \"AIO2024\"\n",
        "string3 = '''AIO\n",
        "    2024'''\n",
        "\n",
        "print(string1)\n",
        "print(string2)\n",
        "print(string3)"
      ]
    },
    {
      "cell_type": "code",
      "execution_count": null,
      "metadata": {
        "colab": {
          "base_uri": "https://localhost:8080/"
        },
        "id": "pPqhvo1oyOqv",
        "outputId": "9aca829d-b349-4cff-898b-5cb236219812"
      },
      "outputs": [
        {
          "output_type": "stream",
          "name": "stdout",
          "text": [
            "AIO\n",
            "          2024\n"
          ]
        }
      ],
      "source": [
        "year = '2024'\n",
        "string = f'''AIO\n",
        "          {year}'''\n",
        "\n",
        "print(string)"
      ]
    },
    {
      "cell_type": "code",
      "execution_count": null,
      "metadata": {
        "colab": {
          "base_uri": "https://localhost:8080/"
        },
        "id": "zbrFM8owyfbS",
        "outputId": "7a9d4c10-a2c9-4eb9-c2f7-ec3de0515a69"
      },
      "outputs": [
        {
          "output_type": "stream",
          "name": "stdout",
          "text": [
            "aio\n",
            "AIO\n",
            "From Aio With Love\n"
          ]
        }
      ],
      "source": [
        "low = 'AIO'\n",
        "up = 'aio'\n",
        "tit = 'from aio with love'\n",
        "\n",
        "print(low.lower())\n",
        "print(up.upper())\n",
        "print(tit.title())"
      ]
    },
    {
      "cell_type": "code",
      "execution_count": null,
      "metadata": {
        "colab": {
          "base_uri": "https://localhost:8080/"
        },
        "id": "bUjqhGOmy00p",
        "outputId": "091094e2-9cfd-42fd-c589-afaefced7db3"
      },
      "outputs": [
        {
          "output_type": "stream",
          "name": "stdout",
          "text": [
            "We're one\n"
          ]
        }
      ],
      "source": [
        "print('We\\'re one')"
      ]
    },
    {
      "cell_type": "markdown",
      "metadata": {
        "id": "spoMe8PUzEvV"
      },
      "source": [
        "# Day 5\n",
        "Link: https://web.facebook.com/photo/?fbid=401788515730277&set=gm.1060670184992290&idorvanity=917108736015103"
      ]
    },
    {
      "cell_type": "code",
      "execution_count": null,
      "metadata": {
        "colab": {
          "base_uri": "https://localhost:8080/"
        },
        "id": "cgXrcsZ-z7Pa",
        "outputId": "60006388-93c0-4f54-b331-c6ae6c85b64d"
      },
      "outputs": [
        {
          "output_type": "stream",
          "name": "stdout",
          "text": [
            "Câu 2: [1, 2, 3, 4, 5]\n",
            "Câu 3: [1, 3, 5, 7, 9]\n",
            "Câu 4: 55\n"
          ]
        }
      ],
      "source": [
        "ls = [i for i in range(1, 11)]\n",
        "\n",
        "print(f\"Câu 2: {ls[:5]}\")\n",
        "print(f\"Câu 3: {[i for i in ls if i%2 != 0]}\")\n",
        "\n",
        "sum = 0\n",
        "for i in ls:\n",
        "  sum += i\n",
        "print(f\"Câu 4: {sum}\")"
      ]
    },
    {
      "cell_type": "markdown",
      "metadata": {
        "id": "CO7LOAbR1II7"
      },
      "source": [
        "# Câu 6\n",
        "Link: https://web.facebook.com/dinhquangvinh86/videos/1142375336942854?idorvanity=917108736015103"
      ]
    },
    {
      "cell_type": "code",
      "execution_count": null,
      "metadata": {
        "colab": {
          "base_uri": "https://localhost:8080/",
          "height": 220
        },
        "id": "h4aVybFu1q53",
        "outputId": "e92e5e79-780d-4a79-e668-b6ff18ccd3ad"
      },
      "outputs": [
        {
          "output_type": "stream",
          "name": "stdout",
          "text": [
            "Thứ hai\n"
          ]
        },
        {
          "output_type": "error",
          "ename": "NameError",
          "evalue": "name 'translate_matchcase' is not defined",
          "traceback": [
            "\u001b[0;31m---------------------------------------------------------------------------\u001b[0m",
            "\u001b[0;31mNameError\u001b[0m                                 Traceback (most recent call last)",
            "\u001b[0;32m<ipython-input-8-6c7b55d0f81f>\u001b[0m in \u001b[0;36m<cell line: 35>\u001b[0;34m()\u001b[0m\n\u001b[1;32m     33\u001b[0m \u001b[0;34m\u001b[0m\u001b[0m\n\u001b[1;32m     34\u001b[0m \u001b[0mprint\u001b[0m\u001b[0;34m(\u001b[0m\u001b[0mtranslate_if_elif_else\u001b[0m\u001b[0;34m(\u001b[0m\u001b[0;34m\"Monday\"\u001b[0m\u001b[0;34m)\u001b[0m\u001b[0;34m)\u001b[0m\u001b[0;34m\u001b[0m\u001b[0;34m\u001b[0m\u001b[0m\n\u001b[0;32m---> 35\u001b[0;31m \u001b[0mprint\u001b[0m\u001b[0;34m(\u001b[0m\u001b[0mtranslate_matchcase\u001b[0m\u001b[0;34m(\u001b[0m\u001b[0;34m\"Tuesday\"\u001b[0m\u001b[0;34m)\u001b[0m\u001b[0;34m)\u001b[0m\u001b[0;34m\u001b[0m\u001b[0;34m\u001b[0m\u001b[0m\n\u001b[0m\u001b[1;32m     36\u001b[0m \u001b[0mprint\u001b[0m\u001b[0;34m(\u001b[0m\u001b[0mtranslate_dict\u001b[0m\u001b[0;34m(\u001b[0m\u001b[0;34m\"Wednesday\"\u001b[0m\u001b[0;34m)\u001b[0m\u001b[0;34m)\u001b[0m\u001b[0;34m\u001b[0m\u001b[0;34m\u001b[0m\u001b[0m\n",
            "\u001b[0;31mNameError\u001b[0m: name 'translate_matchcase' is not defined"
          ]
        }
      ],
      "source": [
        "def translate_match_case(x):\n",
        "  match x:\n",
        "    case \"Monday\": return \"Thứ hai\"\n",
        "    case \"Tuesday\": return \"Thứ ba\"\n",
        "    case \"Wednesday\": return \"Thứ tư\"\n",
        "    case \"Thursday\": return \"Thứ năm\"\n",
        "    case \"Friday\": return \"Thứ sáu\"\n",
        "    case \"Saturday\": return \"Thứ bảy\"\n",
        "    case \"Sunday\": return \"Chủ nhật\"\n",
        "    case _: return \"Sorry, only supports translating the day of the week in English!\"\n",
        "\n",
        "def translate_if_elif_else(x):\n",
        "  if x == \"Monday\": return \"Thứ hai\"\n",
        "  elif x == \"Tuesday\": return \"Thứ ba\"\n",
        "  elif x == \"Wednesday\": return \"Thứ tư\"\n",
        "  elif x == \"Thursday\": return \"Thứ năm\"\n",
        "  elif x == \"Friday\": return \"Thứ sáu\"\n",
        "  elif x == \"Saturday\": return \"Thứ bảy\"\n",
        "  elif x == \"Sunday\": return \"Chủ nhật\"\n",
        "  else: return \"Sorry, only supports translating the day of the week in English!\"\n",
        "\n",
        "def translate_dict(x):\n",
        "  dictionary = {\n",
        "    \"Monday\": \"Thứ hai\",\n",
        "    \"Tuesday\": \"Thứ ba\",\n",
        "    \"Wednesday\": \"Thứ tư\",\n",
        "    \"Thursday\": \"Thứ năm\",\n",
        "    \"Friday\": \"Thứ sáu\",\n",
        "    \"Saturday\": \"Thứ bảy\",\n",
        "    \"Sunday\": \"Chủ nhật\"\n",
        "  }\n",
        "  return dictionary.get(x, \"Sorry, only supports translating the day of the week in English!\")\n",
        "\n",
        "print(translate_if_elif_else(\"Monday\"))\n",
        "print(translate_matchcase(\"Tuesday\"))\n",
        "print(translate_dict(\"Wednesday\"))"
      ]
    },
    {
      "cell_type": "markdown",
      "metadata": {
        "id": "_PX3QoS84NBE"
      },
      "source": [
        "# Day 7\n",
        "Link: https://web.facebook.com/photo/?fbid=402807472295048&set=gm.1061621161563859&idorvanity=917108736015103"
      ]
    },
    {
      "cell_type": "code",
      "execution_count": null,
      "metadata": {
        "id": "GTfc0b-U2ZGU"
      },
      "outputs": [],
      "source": [
        "lst_data = [i for i in range(1, 13) if i%2 == 0]\n",
        "print(\"Câu 1: \", lst_data)\n",
        "\n",
        "for i in lst_data:\n",
        "  if i % 3 == 0:\n",
        "    lst_data.remove(i)\n",
        "print(\"Câu 2: \", lst_data)\n",
        "\n",
        "lst_data += [1,2,3]\n",
        "lst_data = lst_data[:3] + [6, 7, 8] + lst_data[3:]\n",
        "print(\"Câu 3: \", lst_data)\n",
        "\n",
        "for i in range(len(lst_data)):\n",
        "  if lst_data[i]%2 == 0 or lst_data[i]%5 == 0:\n",
        "    lst_data[i] = 0\n",
        "print(\"Câu 4: \", lst_data)"
      ]
    },
    {
      "cell_type": "markdown",
      "metadata": {
        "id": "pUzgeXgM75GK"
      },
      "source": [
        "# Day 8\n",
        "Link: https://web.facebook.com/dinhquangvinh86/videos/1103607137731177?idorvanity=917108736015103"
      ]
    },
    {
      "cell_type": "code",
      "execution_count": null,
      "metadata": {
        "id": "omO3kkT64MT7"
      },
      "outputs": [],
      "source": [
        "# Method 1: For\n",
        "food_list = [\n",
        "    [\"Bơ\", \"Pizza\", \"Sữa\"],\n",
        "    [\"Xúc xích\", \"Táo\", \"Kem\"],\n",
        "    [\"Cà rốt\", \"Bánh dâu\", \"Cupcake\"]\n",
        "  ]\n",
        "\n",
        "search_items = [\"Cà rốt\", \"Táo\", \"Sữa\"]\n",
        "\n",
        "for row in range(len(food_list)):\n",
        "  for col in range(len(food_list[0])):\n",
        "    if food_list[row][col] in search_items:\n",
        "      print(f\"{food_list[row][col]} nằm ở hàng {row+1} cột {col+1}\")"
      ]
    },
    {
      "cell_type": "code",
      "execution_count": null,
      "metadata": {
        "id": "paolEkHo_Y1C"
      },
      "outputs": [],
      "source": [
        "# Method 2: Enumerate\n",
        "for row, items in enumerate(food_list, start=1):\n",
        "  for col, food in enumerate(items, start=1):\n",
        "    if food in search_items:\n",
        "      print(f\"{food} nằm ở hàng {row} cột {col}\")"
      ]
    },
    {
      "cell_type": "markdown",
      "metadata": {
        "id": "pbycbK8DAueQ"
      },
      "source": [
        "# Day 9\n",
        "Link: https://web.facebook.com/photo/?fbid=403850315524097&set=gm.1062644981461477&idorvanity=917108736015103"
      ]
    },
    {
      "cell_type": "code",
      "execution_count": null,
      "metadata": {
        "id": "1L_jeE98Av4D"
      },
      "outputs": [],
      "source": [
        "lst_data = [i for i in range(1, 11)]\n",
        "print(\"Câu 1: \", lst_data)\n",
        "\n",
        "N = len(lst_data)\n",
        "if N % 2 != 0:\n",
        "  print(\"Câu 2: Medium = \", lst_data[N//2-1])\n",
        "else:\n",
        "  print(\"Câu 2: Medium = \", (lst_data[N//2-1] + lst_data[N//2])/2)\n",
        "\n",
        "print(\"Câu 3: \", sorted([i for i in lst_data if i%2!=0], reverse=True))"
      ]
    },
    {
      "cell_type": "markdown",
      "metadata": {
        "id": "sGDH7RtzGVXm"
      },
      "source": [
        "# Day 10\n",
        "Link: https://web.facebook.com/photo/?fbid=404404358802026&set=pcb.1063173531408622"
      ]
    },
    {
      "cell_type": "code",
      "execution_count": null,
      "metadata": {
        "id": "c5Pe6K14GXsW"
      },
      "outputs": [],
      "source": [
        "import tensorflow as tf\n",
        "import torch\n",
        "import numpy as np"
      ]
    },
    {
      "cell_type": "code",
      "execution_count": null,
      "metadata": {
        "id": "4TMJYgkUGfm9"
      },
      "outputs": [],
      "source": [
        "scalar = [i for i in range(10)]\n",
        "\n",
        "num = np.array(scalar)\n",
        "tor = torch.tensor(scalar)\n",
        "ten = tf.constant(scalar)\n",
        "\n",
        "print(\"Câu 1:\")\n",
        "print(num, end=\"\\n\\n\")\n",
        "print(tor, end=\"\\n\\n\")\n",
        "print(ten, end=\"\\n\\n\")"
      ]
    },
    {
      "cell_type": "code",
      "execution_count": null,
      "metadata": {
        "id": "1K-Rh1hUG8HS"
      },
      "outputs": [],
      "source": [
        "matrix = [[i for i in range(5)], [i for i in range(5, 10)]]\n",
        "\n",
        "num = np.array(matrix)\n",
        "tor = torch.tensor(matrix)\n",
        "ten = tf.constant(matrix)\n",
        "\n",
        "print(\"Câu 2:\")\n",
        "print(num, end=\"\\n\\n\")\n",
        "print(tor, end=\"\\n\\n\")\n",
        "print(ten, end=\"\\n\\n\")"
      ]
    },
    {
      "cell_type": "code",
      "execution_count": null,
      "metadata": {
        "id": "tQ7QmOXjHZ0a"
      },
      "outputs": [],
      "source": [
        "print(\"Numpy shape: \", num.shape)\n",
        "print(\"PyTorch shape: \", tor.shape)\n",
        "print(\"Tensorflow shape: \", ten.shape)\n",
        "print(\"--------------------------------\")\n",
        "\n",
        "print(\"Numpy dtype: \", num.dtype)\n",
        "print(\"PyTorch dtype: \", tor.dtype)\n",
        "print(\"Tensorflow dtype:\", ten.dtype)\n",
        "print(\"--------------------------------\")\n",
        "\n",
        "print(\"Numpy type: \", type(num))\n",
        "print(\"PyTorch type: \", type(tor))\n",
        "print(\"Tensorflow type: \", type(ten))\n",
        "print(\"--------------------------------\")\n",
        "\n",
        "print(\"PyTorch device: \", tor.device)\n",
        "print(\"Tensorflow device: \", ten.device)"
      ]
    },
    {
      "cell_type": "markdown",
      "metadata": {
        "id": "pXR5AGpAJCi8"
      },
      "source": [
        "# Day 11\n",
        "Link: https://www.facebook.com/photo/?fbid=405508015358327&set=gm.1064207947971847&idorvanity=917108736015103&_rdc=1&_rdr"
      ]
    },
    {
      "cell_type": "code",
      "execution_count": null,
      "metadata": {
        "id": "0Vp3Iniaa3DS"
      },
      "outputs": [],
      "source": [
        "def tokenizer(corpus, x):\n",
        "  tokens = set([word for sen in corpus for word in sen.split()])\n",
        "  return [x.count(word) if word in x else 0 for word in tokens]\n",
        "\n",
        "corpus = [\"Tôi thích môn Toán\", \"Tôi thích AI\", \"Tôi thích âm nhạc\"]\n",
        "x =  \"Tôi thích AI thích Toán\"\n",
        "tokenizer(corpus, x)"
      ]
    },
    {
      "cell_type": "markdown",
      "metadata": {
        "id": "7vrcLVF8aEGg"
      },
      "source": [
        "# Day 12\n",
        "Link: https://www.facebook.com/photo/?fbid=406038741971921&set=pcb.1064713614587947&_rdc=1&_rdr\n"
      ]
    },
    {
      "cell_type": "code",
      "execution_count": null,
      "metadata": {
        "id": "GrV-rwRphq4y"
      },
      "outputs": [],
      "source": [
        "import torch\n",
        "import tensorflow as tf\n",
        "import numpy as np"
      ]
    },
    {
      "cell_type": "code",
      "execution_count": null,
      "metadata": {
        "id": "spJUkrDXiDlC"
      },
      "outputs": [],
      "source": [
        "# Zeros\n",
        "num_0 = np.zeros((2,2))\n",
        "ten_0 = tf.zeros((2,2))\n",
        "tor_0 = torch.zeros((2,2))\n",
        "\n",
        "print(num_0)\n",
        "print()\n",
        "print(ten_0)\n",
        "print()\n",
        "print(tor_0)"
      ]
    },
    {
      "cell_type": "code",
      "execution_count": null,
      "metadata": {
        "id": "fdIUgnLkkc34"
      },
      "outputs": [],
      "source": [
        "# Ones\n",
        "num_1 = np.ones((2,2))\n",
        "ten_1 = tf.ones((2,2))\n",
        "tor_1 = torch.ones((2,2))\n",
        "\n",
        "print(num_1)\n",
        "print()\n",
        "print(ten_1)\n",
        "print()\n",
        "print(tor_1)"
      ]
    },
    {
      "cell_type": "code",
      "execution_count": null,
      "metadata": {
        "id": "87mziseckghO"
      },
      "outputs": [],
      "source": [
        "# Full / Fill\n",
        "num_full = np.full((2,2), 2)\n",
        "ten_fill = tf.fill((2,2), 2)\n",
        "tor_full = torch.full((2,2), 2)\n",
        "\n",
        "print(num_full)\n",
        "print()\n",
        "print(ten_fill)\n",
        "print()\n",
        "print(tor_full)"
      ]
    },
    {
      "cell_type": "markdown",
      "metadata": {
        "id": "8VNRGFiemd9A"
      },
      "source": [
        "# Day 13\n",
        "Link: https://www.facebook.com/photo/?fbid=2577758879070558&set=gm.1065235171202458&idorvanity=917108736015103&_rdc=1&_rdr"
      ]
    },
    {
      "cell_type": "code",
      "execution_count": null,
      "metadata": {
        "id": "agnijJEWmiVe"
      },
      "outputs": [],
      "source": [
        "lst_data = [1, 1.1, None, 1.4, None, 1.5, None, 2.0]\n",
        "\n",
        "none_lst = []\n",
        "for i in range(len(lst_data)):\n",
        "  if lst_data[i] is None:\n",
        "    none_lst.append(i)\n",
        "\n",
        "print(f\"Vị trí None đầu tiên: {none_lst[0] if len(none_lst)>0 else none_lst}\"\n",
        "      f\"\\nDanh sách vị trí có giá trị None: {none_lst}\")"
      ]
    },
    {
      "cell_type": "markdown",
      "metadata": {
        "id": "bKzKMsm4nzIZ"
      },
      "source": [
        "# Day 14\n",
        "Link: https://www.facebook.com/groups/917108736015103/posts/1065800867812555/"
      ]
    },
    {
      "cell_type": "markdown",
      "metadata": {
        "id": "LDhxm-WrsFGB"
      },
      "source": [
        "## Câu 1:"
      ]
    },
    {
      "cell_type": "code",
      "execution_count": null,
      "metadata": {
        "id": "R1nOweKPn36p"
      },
      "outputs": [],
      "source": [
        "np.random.seed(2024)\n",
        "torch.manual_seed(2024)\n",
        "tf.random.set_seed(2024)\n",
        "\n",
        "num1 = np.random.randint(-10, 10, (3,4))\n",
        "ten1 = tf.random.uniform((3, 4), -10, 10, dtype=tf.int32)\n",
        "tor1 = torch.randint(-10, 10, (3, 4))\n",
        "\n",
        "num2 = np.random.randint(-10, 10, (3,4))\n",
        "ten2 = tf.random.uniform((3, 4), -10, 10, dtype=tf.int32)\n",
        "tor2 = torch.randint(-10, 10, (3, 4))"
      ]
    },
    {
      "cell_type": "code",
      "execution_count": null,
      "metadata": {
        "id": "sBdCeekUqmhK"
      },
      "outputs": [],
      "source": [
        "num2 = num2.T\n",
        "ten2 = tf.transpose(ten2)\n",
        "tor2 = tor2.T"
      ]
    },
    {
      "cell_type": "code",
      "execution_count": null,
      "metadata": {
        "id": "r_nEjR7zrvYQ"
      },
      "outputs": [],
      "source": [
        "print(num1 @ num2)\n",
        "print()\n",
        "print(tf.matmul(ten1, ten2))\n",
        "print()\n",
        "print(tor1 @ tor2)"
      ]
    },
    {
      "cell_type": "markdown",
      "metadata": {
        "id": "LPHSU4U7sIT4"
      },
      "source": [
        "## Câu 2:"
      ]
    },
    {
      "cell_type": "code",
      "execution_count": null,
      "metadata": {
        "id": "7faqLTMkr-c0"
      },
      "outputs": [],
      "source": [
        "np.random.seed(2024)\n",
        "torch.manual_seed(2024)\n",
        "tf.random.set_seed(2024)\n",
        "\n",
        "num = np.random.randint(-10, 9, (3, 3))\n",
        "ten = tf.random.uniform((3, 3), -10, 10, dtype=tf.int32)\n",
        "tor = torch.randint(-10, 10, (3, 3))"
      ]
    },
    {
      "cell_type": "code",
      "execution_count": null,
      "metadata": {
        "id": "8vFXVUG-sMqd"
      },
      "outputs": [],
      "source": [
        "print(np.sum(num))\n",
        "print(np.sum(num, 0))\n",
        "print(np.sum(num, 1))"
      ]
    },
    {
      "cell_type": "code",
      "execution_count": null,
      "metadata": {
        "id": "mHJSVYXqsVsd"
      },
      "outputs": [],
      "source": [
        "print(tf.reduce_sum(ten))\n",
        "print(tf.reduce_sum(ten, 0))\n",
        "print(tf.reduce_sum(ten, 1))"
      ]
    },
    {
      "cell_type": "code",
      "execution_count": null,
      "metadata": {
        "id": "UOqelsItshtH"
      },
      "outputs": [],
      "source": [
        "print(torch.sum(tor))\n",
        "print(torch.sum(tor, 0))\n",
        "print(torch.sum(tor, 1))"
      ]
    },
    {
      "cell_type": "markdown",
      "metadata": {
        "id": "yImVQWvKuiap"
      },
      "source": [
        "# Day 15\n",
        "Link: https://www.facebook.com/photo/?fbid=2579064642273315&set=gm.1066267981099177&idorvanity=917108736015103&_rdc=1&_rdr\n"
      ]
    },
    {
      "cell_type": "code",
      "execution_count": null,
      "metadata": {
        "id": "rSY2yzp3w4NR"
      },
      "outputs": [],
      "source": [
        "lst_data = [1, 1.1, None, 1.4, None, 1.5, None, 2.0]\n",
        "\n",
        "fill_data = [lst_data[i-1] if lst_data[i] is None else lst_data[i] for i in range(len(lst_data))]\n",
        "print(fill_data)"
      ]
    },
    {
      "cell_type": "markdown",
      "metadata": {
        "id": "e3NJp6vvulGP"
      },
      "source": [
        "# Day 16\n",
        "Link: https://www.facebook.com/dinhquangvinh.1986/videos/1132542164750945?idorvanity=917108736015103&_rdc=1&_rdr\n"
      ]
    },
    {
      "cell_type": "markdown",
      "metadata": {
        "id": "7HpEDfe25oCN"
      },
      "source": [
        "https://github.com/Koii2k3/factorial-app-streamlit\n",
        "\n",
        "https://factorial-app-app-awuipb7z3hjwa3zdctcu9o.streamlit.app/"
      ]
    },
    {
      "cell_type": "markdown",
      "metadata": {
        "id": "zekfl0XFumZB"
      },
      "source": [
        "# Day 17\n",
        "Link: https://www.facebook.com/groups/917108736015103/posts/1068307460895229/\n"
      ]
    },
    {
      "cell_type": "code",
      "execution_count": null,
      "metadata": {
        "id": "-lY1NBLO52L5"
      },
      "outputs": [],
      "source": [
        "lst_data = [[1, 2, 3],\n",
        "            [4, 5, 6],\n",
        "            [7, 8, 9]]\n",
        "\n",
        "print([[lst_data[i][0], lst_data[i][2]] for i in range(len(lst_data))])"
      ]
    },
    {
      "cell_type": "code",
      "execution_count": null,
      "metadata": {
        "id": "d6Y34Tx98V-3"
      },
      "outputs": [],
      "source": [
        "A = [[1,2,3],\n",
        "     [4,5,6],\n",
        "     [7,8,9]]\n",
        "\n",
        "B = [[2,4,6],\n",
        "     [1,3,5],\n",
        "     [1,0,1]]\n",
        "\n",
        "C = []\n",
        "for i in range(len(A)):\n",
        "  tmp = []\n",
        "  for j in range(len(A[0])):\n",
        "    tmp.append(A[i][j] + B[i][j])\n",
        "  C.append(tmp)\n",
        "print(C)\n",
        "\n",
        "D = []\n",
        "for i in range(len(A)):\n",
        "  tmp = []\n",
        "  for j in range(len(A[0])):\n",
        "    tmp.append(A[i][j] - B[i][j])\n",
        "  D.append(tmp)\n",
        "print(D)\n",
        "\n",
        "BT = []\n",
        "for i in range(len(B)):\n",
        "  tmp = []\n",
        "  for j in range(len(B[0])):\n",
        "    tmp.append(B[j][i])\n",
        "  BT.append(tmp)\n",
        "\n",
        "E = []\n",
        "for row in A:\n",
        "  tmp = []\n",
        "  for col in BT:\n",
        "    sum = 0\n",
        "    for i in range(len(row)):\n",
        "      sum += row[i]*col[i]\n",
        "    tmp.append(sum)\n",
        "  E.append(tmp)\n",
        "E"
      ]
    },
    {
      "cell_type": "markdown",
      "metadata": {
        "id": "QdC-Pz-2unBe"
      },
      "source": [
        "# Day 18\n",
        "Link: https://www.facebook.com/groups/917108736015103/permalink/1068768884182420/\n"
      ]
    },
    {
      "cell_type": "code",
      "execution_count": null,
      "metadata": {
        "id": "86RatSHlB5nD"
      },
      "outputs": [],
      "source": [
        "input = \"I love AI and listen to music\"\n",
        "stop_word = [\"I\", \"love\", \"and\", \"to\"]\n",
        "\n",
        "print([i for i in input.split() if i not in stop_word])"
      ]
    },
    {
      "cell_type": "code",
      "execution_count": null,
      "metadata": {
        "id": "-30dGR8ZC_l-"
      },
      "outputs": [],
      "source": [
        "tp1 = (2, 3)\n",
        "tp2 = (3, 6)\n",
        "\n",
        "res_vec1 = (tp1[0] + tp1[1], tp1[0] * tp1[1])\n",
        "res_vec2 = (tp2[0] + tp2[1], tp2[0] * tp2[1])\n",
        "print(res_vec1, res_vec2)\n",
        "\n",
        "dis = ((tp1[0] - tp2[0])**2 + (tp1[1] - tp2[1])**2)**0.5\n",
        "print(dis)\n",
        "\n",
        "print((tp1.index(3), tp2.index(3)))"
      ]
    },
    {
      "cell_type": "markdown",
      "metadata": {
        "id": "0oLfGYswun47"
      },
      "source": [
        "# Day 19\n",
        "Link: https://www.facebook.com/groups/917108736015103/permalink/1069290210796954/\n"
      ]
    },
    {
      "cell_type": "code",
      "execution_count": null,
      "metadata": {
        "id": "I5pA0Re0Lond"
      },
      "outputs": [],
      "source": [
        "with open('data.txt', 'w') as f:\n",
        "  for i in range(1, 11):\n",
        "    text = str(i) + \"-\" if i!=10 else str(i)\n",
        "    f.write(text)"
      ]
    },
    {
      "cell_type": "code",
      "execution_count": null,
      "metadata": {
        "id": "ikxuCSK68cLs"
      },
      "outputs": [],
      "source": [
        "!cat data.txt"
      ]
    },
    {
      "cell_type": "code",
      "execution_count": null,
      "metadata": {
        "id": "97Whc79t82gr"
      },
      "outputs": [],
      "source": [
        "with open('data.txt', 'r') as f:\n",
        "  lst = f.read().split(\"-\")\n",
        "  lst_filter = [int(i) for i in lst if int(i) % 3 == 0]\n",
        "print(lst_filter)"
      ]
    },
    {
      "cell_type": "code",
      "execution_count": null,
      "metadata": {
        "id": "mA04CjJt-uyI"
      },
      "outputs": [],
      "source": [
        "import pandas"
      ]
    },
    {
      "cell_type": "code",
      "execution_count": null,
      "metadata": {
        "id": "rXRzaF4m-wnZ"
      },
      "outputs": [],
      "source": [
        "df = pandas.read_csv('/content/menu.csv')\n",
        "df.describe()"
      ]
    },
    {
      "cell_type": "code",
      "execution_count": null,
      "metadata": {
        "id": "kCC564tJBAtE"
      },
      "outputs": [],
      "source": [
        "df.info()"
      ]
    },
    {
      "cell_type": "code",
      "execution_count": null,
      "metadata": {
        "id": "XKw5yeGxBC-Z"
      },
      "outputs": [],
      "source": [
        "df.head(5)"
      ]
    },
    {
      "cell_type": "code",
      "execution_count": null,
      "metadata": {
        "id": "RUJUpGAJBFh3"
      },
      "outputs": [],
      "source": [
        "df.tail(10)"
      ]
    },
    {
      "cell_type": "markdown",
      "metadata": {
        "id": "HllrhNUxuohF"
      },
      "source": [
        "# Day 20\n",
        "Link: https://www.facebook.com/groups/917108736015103/permalink/1069805607412081/\n"
      ]
    },
    {
      "cell_type": "code",
      "execution_count": null,
      "metadata": {
        "id": "JHJgXKOJEACI"
      },
      "outputs": [],
      "source": [
        "!pip install newspaper3k\n",
        "!pip install nltk"
      ]
    },
    {
      "cell_type": "code",
      "execution_count": null,
      "metadata": {
        "id": "5QnkKvmvE0XG"
      },
      "outputs": [],
      "source": [
        "from newspaper import Article\n",
        "\n",
        "article = Article('https://baomoi.com/gia-vang-sjc-lap-dinh-moi-tren-83-trieu-dong-luong-dat-nhat-tu-truoc-den-nay-c48787113.epi')\n",
        "\n",
        "article.download()\n",
        "article.parse()"
      ]
    },
    {
      "cell_type": "code",
      "execution_count": null,
      "metadata": {
        "id": "TkZCW6M3FaUe"
      },
      "outputs": [],
      "source": [
        "print(article.text)"
      ]
    },
    {
      "cell_type": "code",
      "execution_count": null,
      "metadata": {
        "id": "p0DgmxPDFE64"
      },
      "outputs": [],
      "source": [
        "print(article.images)"
      ]
    },
    {
      "cell_type": "code",
      "execution_count": null,
      "metadata": {
        "id": "KjT0KN86FnBY"
      },
      "outputs": [],
      "source": [
        "import nltk\n",
        "from nltk.tokenize import word_tokenize"
      ]
    },
    {
      "cell_type": "code",
      "execution_count": null,
      "metadata": {
        "id": "n80ad7dNFnIi"
      },
      "outputs": [],
      "source": [
        "nltk.download('punkt')\n",
        "nltk.download('averaged_perceptron_tagger')"
      ]
    },
    {
      "cell_type": "code",
      "execution_count": null,
      "metadata": {
        "id": "-WA3dXnpHVx-"
      },
      "outputs": [],
      "source": [
        "data = \"Tôi thích học AI và toán\"\n",
        "tokens = word_tokenize(data)\n",
        "res = nltk.pos_tag(tokens)\n",
        "print(res)"
      ]
    },
    {
      "cell_type": "code",
      "execution_count": null,
      "metadata": {
        "id": "NDH0Bj2oHnDu"
      },
      "outputs": [],
      "source": [
        "article1 = Article('https://vnexpress.net/cuu-chu-tich-flc-trinh-van-quyet-bi-truy-to-4732106.html')\n",
        "\n",
        "article1.download()\n",
        "article1.parse()\n",
        "\n",
        "data = article1.text\n",
        "tokens = word_tokenize(data)\n",
        "res = nltk.pos_tag(tokens)\n",
        "print(res)"
      ]
    },
    {
      "cell_type": "markdown",
      "source": [
        "# Day 21\n",
        "Link: https://www.facebook.com/photo/?fbid=412955437946918&set=gm.1071402583919050&idorvanity=917108736015103"
      ],
      "metadata": {
        "id": "o0GeGYunhyFV"
      }
    },
    {
      "cell_type": "code",
      "source": [
        "with open(r'/content/data.txt', 'r') as f:\n",
        "  data = f.read()\n",
        "  clean_data = data.replace('\\n', ' ').lower()\n",
        "\n",
        "distinct_words = list(set(clean_data.split()))\n",
        "\n",
        "counter = []\n",
        "for word in distinct_words:\n",
        "  counter.append(clean_data.count(word))\n",
        "\n",
        "max = min = (0, counter[0])\n",
        "\n",
        "for i in range(len(counter)):\n",
        "  if counter[i] > max[1]:\n",
        "    max = (i, counter[i])\n",
        "  if counter[i] < min[1]:\n",
        "    min = (i, counter[i])\n",
        "\n",
        "for i in range(0, len(counter), len(counter)//3):\n",
        "  print(f\"\\\"{distinct_words[i]}\\\" xuất hiện {counter[i]} lần\")\n",
        "\n",
        "print(f\"\\n\\\"{distinct_words[max[0]]}\\\" xuất hiện nhiều nhất với {max[1]} lần\")\n",
        "print(f\"\\\"{distinct_words[min[0]]}\\\" xuất hiện nhiều nhất với {min[1]} lần\")"
      ],
      "metadata": {
        "id": "ndmthrxdiWju"
      },
      "execution_count": null,
      "outputs": []
    },
    {
      "cell_type": "markdown",
      "source": [
        "# Day 22\n",
        "Link: https://www.facebook.com/groups/917108736015103/permalink/1071883520537623/"
      ],
      "metadata": {
        "id": "qF6_gxi6h2ew"
      }
    },
    {
      "cell_type": "code",
      "source": [
        "import random\n",
        "\n",
        "def random_number_with_condition(total):\n",
        "  random.seed(0)\n",
        "  time = 0\n",
        "  sum = 0\n",
        "  while sum != total:\n",
        "    sum = random.randint(1, 20) + random.randint(1, 20)\n",
        "    time += 1\n",
        "  return time\n",
        "\n",
        "print(random_number_with_condition(40))\n",
        "print(random_number_with_condition(20))\n",
        "print(random_number_with_condition(35))"
      ],
      "metadata": {
        "id": "BSMc4iPErDpN"
      },
      "execution_count": null,
      "outputs": []
    },
    {
      "cell_type": "code",
      "source": [
        "def find_divisible_number(a):\n",
        "  res = 101\n",
        "  while res % a != 0:\n",
        "    res += 1\n",
        "  return res\n",
        "\n",
        "print(find_divisible_number(5))\n",
        "print(find_divisible_number(17))"
      ],
      "metadata": {
        "id": "oKlVWO6VsIkK"
      },
      "execution_count": null,
      "outputs": []
    },
    {
      "cell_type": "code",
      "source": [
        "def find_squared_root(a):\n",
        "  e = 0.001\n",
        "\n",
        "  x = x1 = a\n",
        "  n = 0\n",
        "  while abs(x1 - x) > e:\n",
        "    x = x1\n",
        "    x1 = x - (x**2 - x)/(2**x)\n",
        "  return x1**0.5\n",
        "\n",
        "print(find_squared_root(2))\n",
        "print(find_squared_root(3))"
      ],
      "metadata": {
        "id": "nygcT63ntJr5"
      },
      "execution_count": null,
      "outputs": []
    },
    {
      "cell_type": "markdown",
      "source": [
        "# Day 23\n",
        "Link: https://www.facebook.com/groups/917108736015103/permalink/1072395710486404/"
      ],
      "metadata": {
        "id": "OlkpAjtch27q"
      }
    },
    {
      "cell_type": "code",
      "source": [
        "import numpy as np\n",
        "import tensorflow as tf\n",
        "import torch"
      ],
      "metadata": {
        "id": "MFC8swyrvnIG"
      },
      "execution_count": null,
      "outputs": []
    },
    {
      "cell_type": "code",
      "source": [
        "num_arange = np.arange(0, 10)\n",
        "ten_range = tf.range(0, 10)\n",
        "tor_arange = torch.arange(0, 10)\n",
        "\n",
        "print(num_arange)\n",
        "print(ten_range)\n",
        "print(tor_arange)"
      ],
      "metadata": {
        "id": "QQyycGaXwMs6"
      },
      "execution_count": null,
      "outputs": []
    },
    {
      "cell_type": "code",
      "source": [
        "num_eye = np.eye(3, 3)\n",
        "ten_eye = tf.eye(3, 3)\n",
        "tor_eye = torch.eye(3, 3)\n",
        "\n",
        "print(num_eye)\n",
        "print(ten_eye)\n",
        "print(tor_eye)"
      ],
      "metadata": {
        "id": "ZOghKn18wpX3"
      },
      "execution_count": null,
      "outputs": []
    },
    {
      "cell_type": "code",
      "source": [
        "np.random.seed(2024)\n",
        "torch.manual_seed(2024)\n",
        "tf.random.set_seed(2024)\n",
        "\n",
        "num_rand = np.random.rand(3, 4)\n",
        "ten_rand = tf.random.uniform((3, 4), 0, 1)\n",
        "tor_rand = torch.rand((3, 4))\n",
        "\n",
        "print(num_rand)\n",
        "print(ten_rand)\n",
        "print(tor_rand)"
      ],
      "metadata": {
        "id": "4NR4Rc0ww1iY"
      },
      "execution_count": null,
      "outputs": []
    },
    {
      "cell_type": "code",
      "source": [
        "num_randint = np.random.randint(-10, 10, (3, 4))\n",
        "ten_randint = tf.random.uniform((3, 4), -10, 10, tf.int32)\n",
        "tor_randint = torch.randint(-10, 10, (3, 4))\n",
        "\n",
        "print(num_randint)\n",
        "print(ten_randint)\n",
        "print(tor_randint)"
      ],
      "metadata": {
        "id": "OtudlpmGxTEb"
      },
      "execution_count": null,
      "outputs": []
    },
    {
      "cell_type": "markdown",
      "source": [
        "# Day 24 & 25\n",
        "Link: https://www.facebook.com/groups/917108736015103/permalink/1072891883770120/"
      ],
      "metadata": {
        "id": "jzsmsqF8h4lR"
      }
    },
    {
      "cell_type": "markdown",
      "source": [
        "Question | 1 | 2 | 3 | 4 | 5 | 6 | 7 | 8 | 9 | 10\n",
        "--- | --- | --- | --- | --- | --- | --- | --- | --- | --- | --- |\n",
        "Answer | B | B | A | A | C | D | A | A | D | D |\n",
        "\n",
        "Question | 11 | 12 | 13 | 14 | 15 | 16 | 17 | 18 | 19 | 20\n",
        "--- | --- | --- | --- | --- | --- | --- | --- | --- | --- | --- |\n",
        "Answer | C | A | A | C | A | C | E | C | A | D\n",
        "\n",
        "Question | 21 | 22 | 23 | 24 | 25 | 26 | 27 | 28 | 29 | 30\n",
        "--- | --- | --- | --- | --- | --- | --- | --- | --- | --- | --- |\n",
        "Answer | A | C | A | C | C | C  | A | D | B | D\n",
        "\n",
        "Question | 31 | 32 | 33\n",
        "--- | --- | --- | --- |\n",
        "Answer | A | B | C"
      ],
      "metadata": {
        "id": "p3gMMTfazD_t"
      }
    },
    {
      "cell_type": "code",
      "source": [
        "my_list = [1, 1, 2, 3, 5]\n",
        "odd = 1\n",
        "even = 0\n",
        "for number in my_list:\n",
        "  if number % 3 == 0:\n",
        "    even += number\n",
        "  else:\n",
        "    odd += number\n",
        "print (f\"odd:{odd}, even:{even}\")"
      ],
      "metadata": {
        "id": "m1ebxLZc2sl_"
      },
      "execution_count": null,
      "outputs": []
    },
    {
      "cell_type": "markdown",
      "source": [
        "# Day 26\n",
        "Link: https://www.facebook.com/groups/917108736015103/permalink/1075145866878055/"
      ],
      "metadata": {
        "id": "Hk93UwQQh6eA"
      }
    },
    {
      "cell_type": "code",
      "source": [
        "import cv2\n",
        "from google.colab.patches import cv2_imshow\n",
        "import numpy as np"
      ],
      "metadata": {
        "id": "i0trYc5_9J6N"
      },
      "execution_count": null,
      "outputs": []
    },
    {
      "cell_type": "code",
      "source": [
        "!gdown 1Lyrc_wzoKBetbToc2-FUlEot43vV-Aw0"
      ],
      "metadata": {
        "id": "3hKws87I9Trj"
      },
      "execution_count": null,
      "outputs": []
    },
    {
      "cell_type": "code",
      "source": [
        "!unzip dataset.zip"
      ],
      "metadata": {
        "id": "ApfdqR6J9lXw"
      },
      "execution_count": null,
      "outputs": []
    },
    {
      "cell_type": "code",
      "source": [
        "img = cv2.imread('1.jpg')\n",
        "img = cv2.resize(img, None, fx=0.25, fy=0.25)\n",
        "cv2_imshow(img)"
      ],
      "metadata": {
        "id": "NUtzYA069nxI"
      },
      "execution_count": null,
      "outputs": []
    },
    {
      "cell_type": "code",
      "source": [
        "gray = cv2.cvtColor(img, cv2.COLOR_BGR2GRAY)\n",
        "cv2_imshow(gray)"
      ],
      "metadata": {
        "id": "v12nfblW9y1p"
      },
      "execution_count": null,
      "outputs": []
    },
    {
      "cell_type": "code",
      "source": [
        "up = np.array(img, dtype=np.float32)\n",
        "up += 50\n",
        "up = np.clip(up, 0, 255)\n",
        "up = up.astype(np.uint8)\n",
        "cv2_imshow(up)"
      ],
      "metadata": {
        "id": "L3l7j9Yo94al"
      },
      "execution_count": null,
      "outputs": []
    },
    {
      "cell_type": "code",
      "source": [
        "up = np.array(img, dtype=np.float32)\n",
        "up -= 80\n",
        "up = np.clip(up, 0, 255)\n",
        "up = up.astype(np.uint8)\n",
        "cv2_imshow(up)"
      ],
      "metadata": {
        "id": "XPMRVlu2-eUK"
      },
      "execution_count": null,
      "outputs": []
    },
    {
      "cell_type": "markdown",
      "source": [
        "# Day 27\n",
        "Link: https://www.facebook.com/groups/917108736015103/permalink/1075678750158100/"
      ],
      "metadata": {
        "id": "YN_uR7lt_s1n"
      }
    },
    {
      "cell_type": "code",
      "source": [
        "!pip install underthesea"
      ],
      "metadata": {
        "id": "7CrMwVIQ_9PY"
      },
      "execution_count": null,
      "outputs": []
    },
    {
      "cell_type": "code",
      "source": [
        "from underthesea import pos_tag\n",
        "\n",
        "pos_tag(\"Tôi đang làm bài AIO ngày thứ 27.\")"
      ],
      "metadata": {
        "id": "vXPUlkSlAS4A"
      },
      "execution_count": null,
      "outputs": []
    },
    {
      "cell_type": "code",
      "source": [
        "import underthesea as uts\n",
        "\n",
        "uts.classify(\"Áo dài là truyền thống Việt Nam.\")"
      ],
      "metadata": {
        "id": "fkTDBferAdPO"
      },
      "execution_count": null,
      "outputs": []
    },
    {
      "cell_type": "code",
      "source": [
        "uts.sentiment('Tôi cảm thấy món hàng cũng ổn nhưng chưa như ý.')"
      ],
      "metadata": {
        "id": "7Oo0iUT7BIdN"
      },
      "execution_count": null,
      "outputs": []
    },
    {
      "cell_type": "code",
      "source": [
        "uts.sent_tokenize(\"Giá vàng quốc tế lập đỉnh liên tục, tăng 350 USD chỉ trong hai tháng, do biến động chính trị, lực mua của các ngân hàng trung ương và kỳ vọng Mỹ giảm lãi suất. Phiên 9/4, giá vàng thế giới lập đỉnh phiên thứ 7 liên tiếp, khi chạm 2.365 USD một ounce. Từ đầu năm, kim loại quý này đã tăng 16,5%. Giá tăng mạnh từ giữa tháng 2 và trong hai tháng mỗi ounce đã đắt thêm 350 USD. Giới phân tích cho rằng đợt tăng lần này có nhiều nguyên nhân. Đó là bất ổn địa chính trị, lực mua của các ngân hàng trung ương và kỳ vọng Cục Dự trữ liên bang Mỹ (Fed) giảm lãi suất năm nay.\")\n"
      ],
      "metadata": {
        "id": "9MDzaKIJByYr"
      },
      "execution_count": null,
      "outputs": []
    },
    {
      "cell_type": "code",
      "source": [
        "uts.word_tokenize(\"Giá vàng quốc tế lập đỉnh liên tục, tăng 350 USD chỉ trong hai tháng, do biến động chính trị, lực mua của các ngân hàng trung ương và kỳ vọng Mỹ giảm lãi suất. Phiên 9/4, giá vàng thế giới lập đỉnh phiên thứ 7 liên tiếp, khi chạm 2.365 USD một ounce. Từ đầu năm, kim loại quý này đã tăng 16,5%. Giá tăng mạnh từ giữa tháng 2 và trong hai tháng mỗi ounce đã đắt thêm 350 USD. Giới phân tích cho rằng đợt tăng lần này có nhiều nguyên nhân. Đó là bất ổn địa chính trị, lực mua của các ngân hàng trung ương và kỳ vọng Cục Dự trữ liên bang Mỹ (Fed) giảm lãi suất năm nay.\")"
      ],
      "metadata": {
        "id": "UnSiBReUCOVI"
      },
      "execution_count": null,
      "outputs": []
    },
    {
      "cell_type": "markdown",
      "source": [
        "# Day 28\n",
        "Link: https://www.facebook.com/groups/917108736015103/permalink/1076212780104697/"
      ],
      "metadata": {
        "id": "fH7v1rFL_vZa"
      }
    },
    {
      "cell_type": "code",
      "source": [
        "!pip install translate\n",
        "!pip install googletrans==4.0.0rc1"
      ],
      "metadata": {
        "id": "VEgYjJztCqMl"
      },
      "execution_count": null,
      "outputs": []
    },
    {
      "cell_type": "markdown",
      "source": [
        "## \"Translate\" library"
      ],
      "metadata": {
        "id": "TBmlelSsGJbj"
      }
    },
    {
      "cell_type": "code",
      "source": [
        "import translate\n",
        "\n",
        "translator = translate.Translator(to_lang=\"vi\")\n",
        "translation = translator.translate(\"Don’t cry because it’s over, smile because it happened.\")\n",
        "print(translation)"
      ],
      "metadata": {
        "id": "OmxVG6H6DVGQ"
      },
      "execution_count": null,
      "outputs": []
    },
    {
      "cell_type": "code",
      "source": [
        "translator = translate.Translator(from_lang=\"vi\", to_lang=\"en\")\n",
        "translation = translator.translate(\"Công cụ Suno AI nhanh chóng nhận được sự chú ý từ người dùng khi có thể tạo bài hát chỉ với vài câu lệnh. Phiên bản mới nhất V3 Alpha mới được giới thiệu cuối tháng 2, có bản miễn phí với 10 bài hát mỗi ngày.\")\n",
        "print(translation)"
      ],
      "metadata": {
        "id": "RDGJCq9_EbVr"
      },
      "execution_count": null,
      "outputs": []
    },
    {
      "cell_type": "code",
      "source": [
        "translator = translate.Translator(from_lang=\"vi\", to_lang=\"ja\")\n",
        "translation = translator.translate(\"Công cụ Suno AI nhanh chóng nhận được sự chú ý từ người dùng khi có thể tạo bài hát chỉ với vài câu lệnh. Phiên bản mới nhất V3 Alpha mới được giới thiệu cuối tháng 2, có bản miễn phí với 10 bài hát mỗi ngày.\")\n",
        "print(translation)"
      ],
      "metadata": {
        "id": "0MfdwhPTF7lA"
      },
      "execution_count": null,
      "outputs": []
    },
    {
      "cell_type": "markdown",
      "source": [
        "## \"Googletrans\" library"
      ],
      "metadata": {
        "id": "T1z_nK7tGN4m"
      }
    },
    {
      "cell_type": "code",
      "source": [
        "import googletrans\n",
        "\n",
        "GGtranslator = googletrans.Translator()\n",
        "translation = GGtranslator.translate(\"Don’t cry because it’s over, smile because it happened.\", dest=\"korean\")\n",
        "print(translation.text)"
      ],
      "metadata": {
        "id": "kNbgj_-WDoTq"
      },
      "execution_count": null,
      "outputs": []
    },
    {
      "cell_type": "code",
      "source": [
        "translation = GGtranslator.translate(\"Công cụ Suno AI nhanh chóng nhận được sự chú ý từ người dùng khi có thể tạo bài hát chỉ với vài câu lệnh. Phiên bản mới nhất V3 Alpha mới được giới thiệu cuối tháng 2, có bản miễn phí với 10 bài hát mỗi ngày.\", dest=\"en\")\n",
        "print(translation.text)"
      ],
      "metadata": {
        "id": "ODSrkBSWGClP"
      },
      "execution_count": null,
      "outputs": []
    },
    {
      "cell_type": "code",
      "source": [
        "translation = GGtranslator.translate(\"Công cụ Suno AI nhanh chóng nhận được sự chú ý từ người dùng khi có thể tạo bài hát chỉ với vài câu lệnh. Phiên bản mới nhất V3 Alpha mới được giới thiệu cuối tháng 2, có bản miễn phí với 10 bài hát mỗi ngày.\", dest=\"ja\")\n",
        "print(translation.text)"
      ],
      "metadata": {
        "id": "JT8bSPDJGWoo"
      },
      "execution_count": null,
      "outputs": []
    },
    {
      "cell_type": "markdown",
      "source": [
        "# Day 29\n",
        "Link: https://www.facebook.com/groups/917108736015103/permalink/1076779653381343/"
      ],
      "metadata": {
        "id": "Tov3hAMd_wBl"
      }
    },
    {
      "cell_type": "markdown",
      "source": [
        "## Librosa"
      ],
      "metadata": {
        "id": "8pqgx_N5IqaK"
      }
    },
    {
      "cell_type": "code",
      "source": [
        "!pip install librosa"
      ],
      "metadata": {
        "id": "VUqWhxdlGl6k"
      },
      "execution_count": null,
      "outputs": []
    },
    {
      "cell_type": "code",
      "source": [
        "import librosa\n",
        "\n",
        "# filename = librosa.example('nutcracker')\n",
        "audio, sr = librosa.load('/content/data.wav')"
      ],
      "metadata": {
        "id": "7lHl5HutHVy7"
      },
      "execution_count": null,
      "outputs": []
    },
    {
      "cell_type": "code",
      "source": [
        "import numpy as np\n",
        "import matplotlib.pyplot as plt\n",
        "\n",
        "time = np.linspace(0, audio.shape[0] / sr, num=audio.shape[0])\n",
        "plt.plot(time, audio, color=\"blue\")\n",
        "plt.xlabel(\"Time (s)\")\n",
        "plt.ylabel(\"Anplitude (quantized)\")\n",
        "plt.title(\"Wav file visualization\")\n",
        "plt.axhline(y=0, color='r', linestyle='-')\n",
        "plt.show()"
      ],
      "metadata": {
        "id": "3OMwD32jHgFH"
      },
      "execution_count": null,
      "outputs": []
    },
    {
      "cell_type": "markdown",
      "source": [
        "## Speech Recognition"
      ],
      "metadata": {
        "id": "SAg79vKRIsSx"
      }
    },
    {
      "cell_type": "code",
      "source": [
        "!pip install SpeechRecognition"
      ],
      "metadata": {
        "id": "71UQ1UazIufs"
      },
      "execution_count": null,
      "outputs": []
    },
    {
      "cell_type": "code",
      "source": [
        "import speech_recognition as sr\n",
        "\n",
        "r = sr.Recognizer()\n",
        "audio_file = 'data.wav'\n",
        "\n",
        "my_audio = sr.AudioFile(audio_file)\n",
        "with my_audio as source:\n",
        "  audio = r.record(source)\n",
        "  print(type(audio))\n",
        "  your_speech = r.recognize_google(audio, language=\"vi-VN\")\n",
        "  print(\"Audio transcription: \", your_speech)"
      ],
      "metadata": {
        "id": "_l1upd8JIyMr"
      },
      "execution_count": null,
      "outputs": []
    },
    {
      "cell_type": "markdown",
      "source": [
        "## Gtts"
      ],
      "metadata": {
        "id": "VASXjFE3Jl0j"
      }
    },
    {
      "cell_type": "code",
      "source": [
        "!pip install gtts"
      ],
      "metadata": {
        "id": "3_FTMjR4JiZw"
      },
      "execution_count": null,
      "outputs": []
    },
    {
      "cell_type": "code",
      "source": [
        "from gtts import gTTS\n",
        "import librosa\n",
        "import numpy as np\n",
        "\n",
        "def gtts_audio(lang, output_path, content):\n",
        "  output = gTTS(content, lang=lang, slow=False)\n",
        "  output.save(output_path)\n",
        "  data, sr = librosa.load(output_path)\n",
        "  return data\n",
        "\n",
        "data = gtts_audio('vi', 'output.mp3', \"Tôi yêu AIO\")"
      ],
      "metadata": {
        "id": "GTM9ERdaJpjC"
      },
      "execution_count": null,
      "outputs": []
    },
    {
      "cell_type": "code",
      "source": [
        "import IPython\n",
        "\n",
        "IPython.display.display(IPython.display.Audio(np.transpose(data), rate=sr))"
      ],
      "metadata": {
        "id": "VNYbwZ6lKHSV"
      },
      "execution_count": null,
      "outputs": []
    },
    {
      "cell_type": "markdown",
      "source": [
        "# Day 30\n",
        "Link: https://www.facebook.com/groups/917108736015103/permalink/1077314419994533/"
      ],
      "metadata": {
        "id": "2xzUVXwN_yMk"
      }
    },
    {
      "cell_type": "markdown",
      "source": [
        "PyPi: ![image.png](data:image/png;base64,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)"
      ],
      "metadata": {
        "id": "v_GCPv3Di7nn"
      }
    },
    {
      "cell_type": "markdown",
      "source": [
        "# Day 31\n",
        "Link: https://www.facebook.com/groups/917108736015103/permalink/1079046193154689/"
      ],
      "metadata": {
        "id": "ryqYIt2n_zFc"
      }
    },
    {
      "cell_type": "code",
      "source": [
        "!pip install pygwalker"
      ],
      "metadata": {
        "id": "kOEpNvUwjBAO"
      },
      "execution_count": null,
      "outputs": []
    },
    {
      "cell_type": "code",
      "source": [
        "import pygwalker as pyg\n",
        "import pandas as pd\n",
        "\n",
        "data = pd.read_csv('/content/advertising.csv')\n",
        "pyg.walk(data)"
      ],
      "metadata": {
        "id": "H6CjsNrBjuh3"
      },
      "execution_count": null,
      "outputs": []
    },
    {
      "cell_type": "code",
      "source": [
        "data = pd.read_csv('/content/worldcities.csv')\n",
        "pyg.walk(data)"
      ],
      "metadata": {
        "id": "vtGCuLgS2hq3"
      },
      "execution_count": null,
      "outputs": []
    },
    {
      "cell_type": "markdown",
      "source": [
        "# Day 32 & 33\n",
        "Link: https://www.facebook.com/groups/917108736015103/permalink/1080182296374412"
      ],
      "metadata": {
        "id": "vmiHyO_S_zvS"
      }
    },
    {
      "cell_type": "markdown",
      "source": [
        "Question | 1 | 2 | 3 | 4 | 5 | 6 | 7 | 8 | 9 | 10\n",
        "--- | --- | --- | --- | --- | --- | --- | --- | --- | --- | --- |\n",
        "Answer | B | B | A | A | A | B | A | C | A | A |\n",
        "\n",
        "Question | 11 | 12 | 13 | 14 | 15 | 16 | 17 | 18 | 19 | 20\n",
        "--- | --- | --- | --- | --- | --- | --- | --- | --- | --- | --- |\n",
        "Answer | A | D | B | C | A | B | A | C | A | C |\n",
        "\n",
        "Question | 21 | 22 | 23 | 24 | 25 | 26 | 27 | 28 | 29 | 30\n",
        "--- | --- | --- | --- | --- | --- | --- | --- | --- | --- | --- |\n",
        "Answer | D | C | A | F | B | A | A | C | A | A |\n",
        "\n",
        "Question | 31 | 32 | 33\n",
        "--- | --- | --- | --- |\n",
        "Answer | B | C | A"
      ],
      "metadata": {
        "id": "d53x1Kx5eMim"
      }
    },
    {
      "cell_type": "markdown",
      "source": [
        "# Day 34\n",
        "Link: https://www.facebook.com/groups/917108736015103/permalink/1081262192933089/"
      ],
      "metadata": {
        "id": "ONtEiEkI_0Tp"
      }
    },
    {
      "cell_type": "code",
      "source": [
        "import cv2\n",
        "from google.colab.patches import cv2_imshow\n",
        "import numpy as np\n",
        "import matplotlib.pyplot as plt"
      ],
      "metadata": {
        "id": "7liHrVR2rpgK"
      },
      "execution_count": null,
      "outputs": []
    },
    {
      "cell_type": "code",
      "source": [
        "img = cv2.imread('/content/2.jpg', 0)"
      ],
      "metadata": {
        "id": "if4uuQzXrrIB"
      },
      "execution_count": null,
      "outputs": []
    },
    {
      "cell_type": "code",
      "source": [
        "img_filtered25 = cv2.GaussianBlur(img, (5, 5), 2.5)\n",
        "img_filtered5 = cv2.GaussianBlur(img, (5, 5), 5)\n",
        "img_filtered10 = cv2.GaussianBlur(img, (5, 5), 10)\n",
        "\n",
        "fig, axes = plt.subplots(2, 2)\n",
        "axes[0, 0].imshow(img, cmap='gray')\n",
        "axes[0, 0].set_title(\"Origin\")\n",
        "axes[0, 1].imshow(img_filtered25, cmap='gray')\n",
        "axes[0, 1].set_title(\"Gaus Sigma = 2.5\")\n",
        "axes[1, 0].imshow(img_filtered5, cmap='gray')\n",
        "axes[1, 0].set_title(\"Gaus Sigma = 5.\")\n",
        "axes[1, 1].imshow(img_filtered10, cmap='gray')\n",
        "axes[1, 1].set_title(\"Gaus Sigma = 10.\")\n",
        "plt.plot()"
      ],
      "metadata": {
        "id": "vt1SGh98tKyN"
      },
      "execution_count": null,
      "outputs": []
    },
    {
      "cell_type": "code",
      "source": [
        "def gaus_kernel(size, sigma):\n",
        "  if size % 2 == 0:\n",
        "    size += 1\n",
        "\n",
        "  max = size // 2\n",
        "  min = -max\n",
        "\n",
        "  ker = np.zeros((size, size))\n",
        "  for x in range(min, max + 1):\n",
        "    for y in range(min, max + 1):\n",
        "      val = (1/(2 * np.pi * sigma**2)) * np.exp((-x**2-y**2)/(2 * sigma**2))\n",
        "      ker[x - min, y - min] = val\n",
        "  ker /= np.sum(ker)\n",
        "  return ker\n",
        "\n",
        "kernel25 = gaus_kernel(5, 2.5)\n",
        "kernel5 = gaus_kernel(5, 5)\n",
        "kernel10 = gaus_kernel(5, 10)\n",
        "\n",
        "img_gaus25 = cv2.filter2D(img, -1, kernel25)\n",
        "img_gaus5 = cv2.filter2D(img, -1, kernel5)\n",
        "img_gaus10 = cv2.filter2D(img, -1, kernel10)\n",
        "\n",
        "fig, axes = plt.subplots(2, 2)\n",
        "axes[0, 0].imshow(img, cmap='gray')\n",
        "axes[0, 0].set_title(\"Origin\")\n",
        "axes[0, 1].imshow(img_gaus25, cmap='gray')\n",
        "axes[0, 1].set_title(\"Gaus Sigma = 2.5\")\n",
        "axes[1, 0].imshow(img_gaus5, cmap='gray')\n",
        "axes[1, 0].set_title(\"Gaus Sigma = 5.\")\n",
        "axes[1, 1].imshow(img_gaus10, cmap='gray')\n",
        "axes[1, 1].set_title(\"Gaus Sigma = 10.\")\n",
        "plt.plot()"
      ],
      "metadata": {
        "id": "iS-uFBBatbi5"
      },
      "execution_count": null,
      "outputs": []
    },
    {
      "cell_type": "markdown",
      "source": [
        "# Day 35\n",
        "Link: https://www.facebook.com/groups/917108736015103/posts/1082847029441272/"
      ],
      "metadata": {
        "id": "0r40Iu_f_1yB"
      }
    },
    {
      "cell_type": "code",
      "source": [
        "import sqlite3"
      ],
      "metadata": {
        "id": "SXEsrJ_a3B-l"
      },
      "execution_count": null,
      "outputs": []
    },
    {
      "cell_type": "code",
      "source": [
        "connection = sqlite3.connect('database.sqlite')\n",
        "cursor = connection.cursor()"
      ],
      "metadata": {
        "id": "8vuiNgEl3noo"
      },
      "execution_count": null,
      "outputs": []
    },
    {
      "cell_type": "code",
      "source": [
        "cursor.execute(\"\"\"\n",
        "  CREATE TABLE CUSTOMERS (\n",
        "    EMAIL TEXT PRIMARY KEY,\n",
        "    NAME TEXT NOT NULL,\n",
        "    PHONE TEXT NOT NULL\n",
        "  );\n",
        "\"\"\")"
      ],
      "metadata": {
        "id": "h2CCSYqe307_"
      },
      "execution_count": null,
      "outputs": []
    },
    {
      "cell_type": "code",
      "source": [
        "cursor.execute(\"\"\"\n",
        "  INSERT INTO CUSTOMERS(EMAIL, NAME, PHONE)\n",
        "  VALUES\n",
        "    ('nguyen@aivietnam.edu.vn', 'Nguyen', '123456789') ,\n",
        "    ('admin@aivietnam.edu.vn', 'Vinh', '1122334455') ;\n",
        "\"\"\")\n",
        "connection.commit()"
      ],
      "metadata": {
        "id": "V6OQ_Qdu4BSi"
      },
      "execution_count": null,
      "outputs": []
    },
    {
      "cell_type": "code",
      "source": [
        "import pandas as pd"
      ],
      "metadata": {
        "id": "qmLk9muA4er5"
      },
      "execution_count": null,
      "outputs": []
    },
    {
      "cell_type": "code",
      "source": [
        "data = pd.read_sql_query(\"SELECT * FROM CUSTOMERS\", connection)\n",
        "print(data)"
      ],
      "metadata": {
        "id": "C09nEZNk4ffi"
      },
      "execution_count": null,
      "outputs": []
    },
    {
      "cell_type": "code",
      "source": [
        "cursor.execute(\"\"\"\n",
        "  UPDATE CUSTOMERS\n",
        "  SET NAME = 'Hoang Nguyen'\n",
        "  WHERE 1 = 1\n",
        "  AND EMAIL = 'nguyen@aivietnam.edu.vn';\n",
        "\"\"\")\n",
        "\n",
        "connection.commit()\n",
        "data = pd.read_sql_query(\"SELECT * FROM CUSTOMERS\", connection)\n",
        "print(data)"
      ],
      "metadata": {
        "id": "KUT4C-9r4qB9"
      },
      "execution_count": null,
      "outputs": []
    },
    {
      "cell_type": "code",
      "source": [
        "cursor.execute(\"\"\"\n",
        "  DELETE FROM CUSTOMERS\n",
        "  WHERE 1 = 1\n",
        "  AND EMAIL = 'nguyen@aivietnam.edu.vn';\n",
        "\"\"\")\n",
        "\n",
        "connection.commit()\n",
        "data = pd.read_sql_query(\"SELECT * FROM CUSTOMERS\", connection)\n",
        "print(data)"
      ],
      "metadata": {
        "id": "cbXvC6Sy5CgR"
      },
      "execution_count": null,
      "outputs": []
    },
    {
      "cell_type": "code",
      "source": [
        "def exe(query, table):\n",
        "  cursor.execute(query)\n",
        "  connection.commit()\n",
        "  data = pd.read_sql_query(f\"SELECT * FROM {table}\", connection)\n",
        "  print(data)"
      ],
      "metadata": {
        "id": "WNb8xWVL5Qh5"
      },
      "execution_count": null,
      "outputs": []
    },
    {
      "cell_type": "code",
      "source": [
        "query = \"\"\"\n",
        "  CREATE TABLE PRODUCT(\n",
        "    ID INTEGER PRIMARY KEY,\n",
        "    NAME TEXT NOT NULL,\n",
        "    PRICE INTEGER NOT NULL\n",
        "  )\n",
        "\"\"\"\n",
        "exe(query, \"PRODUCT\")"
      ],
      "metadata": {
        "id": "3QP5WDGs5ztp"
      },
      "execution_count": null,
      "outputs": []
    },
    {
      "cell_type": "code",
      "source": [
        "query = \"\"\"\n",
        "  INSERT INTO PRODUCT\n",
        "  VALUES\n",
        "  (1, 'iPhone15', 18000000),\n",
        "  (2, 'Galaxy Z-Fold 5', 30000000)\n",
        "\"\"\"\n",
        "exe(query, \"PRODUCT\")"
      ],
      "metadata": {
        "id": "20waKZ1X6LZC"
      },
      "execution_count": null,
      "outputs": []
    },
    {
      "cell_type": "code",
      "source": [
        "query = \"\"\"\n",
        "  UPDATE PRODUCT\n",
        "  SET PRICE = 50000000\n",
        "  WHERE ID = 2\n",
        "\"\"\"\n",
        "exe(query, \"PRODUCT\")"
      ],
      "metadata": {
        "id": "JIrjFAXF6fBE"
      },
      "execution_count": null,
      "outputs": []
    },
    {
      "cell_type": "code",
      "source": [
        "query = \"\"\"\n",
        "  DELETE FROM PRODUCT\n",
        "  WHERE ID = 1\n",
        "\"\"\"\n",
        "exe(query, \"PRODUCT\")"
      ],
      "metadata": {
        "id": "t5Qqh9qG6tei"
      },
      "execution_count": null,
      "outputs": []
    },
    {
      "cell_type": "markdown",
      "source": [
        "# Day 36\n",
        "Link: https://www.facebook.com/groups/917108736015103/posts/1083378122721496/"
      ],
      "metadata": {
        "id": "tCIEGIhf_2gj"
      }
    },
    {
      "cell_type": "code",
      "source": [
        "query = \"\"\"\n",
        "SELECT SUM(price) AS total_revenue\n",
        "FROM PRODUCT;\n",
        "\"\"\"\n",
        "\n",
        "data_sum = pd.read_sql_query(query, connection)\n",
        "print(data_sum)"
      ],
      "metadata": {
        "id": "Obxq7qfQ9OT_"
      },
      "execution_count": null,
      "outputs": []
    },
    {
      "cell_type": "code",
      "source": [
        "query = \"\"\"\n",
        "SELECT NAME, MAX(price) AS PRICE\n",
        "FROM PRODUCT;\n",
        "\"\"\"\n",
        "\n",
        "data_max = pd.read_sql_query(query, connection)\n",
        "print(data_max)"
      ],
      "metadata": {
        "id": "UadC9Ip29zfk"
      },
      "execution_count": null,
      "outputs": []
    },
    {
      "cell_type": "code",
      "source": [
        "query = \"\"\"\n",
        "  CREATE TABLE STOCK(\n",
        "    ID INTEGER PRIMARY KEY,\n",
        "    NAME TEXT NOT NULL,\n",
        "    BUY INTEGER NOT NULL,\n",
        "    INVESTOR TEXT NOT NULL\n",
        ")\"\"\"\n",
        "\n",
        "exe(query, \"STOCK\")"
      ],
      "metadata": {
        "id": "bWb5-t8F-WKM"
      },
      "execution_count": null,
      "outputs": []
    },
    {
      "cell_type": "code",
      "source": [
        "query = \"\"\"\n",
        "  INSERT INTO STOCK\n",
        "  VALUES\n",
        "  (1, 'ACB', 29.45, 'Nguyen'),\n",
        "  (2, 'VIC', 44.55, 'Nguyen'),\n",
        "  (3, 'GMD', 74.30, 'Nguyen'),\n",
        "  (4, 'ACB', 28.45, 'Vinh'),\n",
        "  (5, 'VIC', 40.55, 'Vinh'),\n",
        "  (6, 'GMD', 60.30, 'Vinh')\n",
        "\"\"\"\n"
      ],
      "metadata": {
        "id": "Z5dew2a3-2-E"
      },
      "execution_count": null,
      "outputs": []
    },
    {
      "cell_type": "code",
      "source": [
        "query = \"\"\"\n",
        "  SELECT SUM(BUY) AS TOAL\n",
        "  FROM STOCK\n",
        "\"\"\"\n",
        "\n",
        "print(pd.read_sql_query(query, connection))"
      ],
      "metadata": {
        "id": "Q6tgLget_X_E"
      },
      "execution_count": null,
      "outputs": []
    },
    {
      "cell_type": "code",
      "source": [
        "query = \"\"\"\n",
        "  SELECT INVESTOR, MAX(BUY) AS MAX_PRICE\n",
        "  FROM STOCK\n",
        "  GROUP BY INVESTOR\n",
        "\"\"\"\n",
        "\n",
        "print(pd.read_sql_query(query, connection))"
      ],
      "metadata": {
        "id": "vYgFsoDIAxav"
      },
      "execution_count": null,
      "outputs": []
    },
    {
      "cell_type": "markdown",
      "source": [
        "# Day 37\n",
        "Link: https://www.facebook.com/groups/917108736015103/posts/1083884116004230/"
      ],
      "metadata": {
        "id": "G9l0Pbw9_5yq"
      }
    },
    {
      "cell_type": "code",
      "source": [
        "!pip install pypdf"
      ],
      "metadata": {
        "id": "27n7oHX4BnD4"
      },
      "execution_count": null,
      "outputs": []
    },
    {
      "cell_type": "code",
      "source": [
        "from pypdf import PdfReader\n",
        "\n",
        "reader = PdfReader(\"/yolov9.pdf\")\n",
        "num_pages = len(reader.pages)\n",
        "\n",
        "pages_txt = \"\"\n",
        "for i in range(num_pages):\n",
        "  page = reader.pages[i]\n",
        "  pages_txt += page.extract_text() + \"\\n\""
      ],
      "metadata": {
        "id": "D3ek21AXBw_s"
      },
      "execution_count": null,
      "outputs": []
    },
    {
      "cell_type": "code",
      "source": [
        "print(pages_txt[:1000])"
      ],
      "metadata": {
        "id": "OPSsX_TJC-ow"
      },
      "execution_count": null,
      "outputs": []
    },
    {
      "cell_type": "code",
      "source": [
        "count = 0\n",
        "for page in reader.pages:\n",
        "  for image_file_object in page.images:\n",
        "    with open(str(count) + image_file_object.name, 'wb') as fp:\n",
        "      fp.write(image_file_object.data)\n",
        "      count +=1"
      ],
      "metadata": {
        "id": "iGsz3jSUEMyS"
      },
      "execution_count": null,
      "outputs": []
    },
    {
      "cell_type": "code",
      "source": [
        "from pypdf import PdfWriter\n",
        "\n",
        "merger = PdfWriter()\n",
        "for pdf in [\"yolov6.pdf\", \"yolov7.pdf\", \"yolov9.pdf\"]:\n",
        "  merger.append(pdf)\n",
        "\n",
        "merger.write(\"merged-yolov-679.pdf\")\n",
        "merger.close()"
      ],
      "metadata": {
        "id": "32aJ-6CtEzax"
      },
      "execution_count": null,
      "outputs": []
    },
    {
      "cell_type": "code",
      "source": [
        "writer = PdfWriter(clone_from = \"yolov9.pdf\")\n",
        "\n",
        "for page in writer.pages:\n",
        "  page.compress_content_streams(level=9)\n",
        "\n",
        "with open(\"out.pdf \", \"wb\") as f:\n",
        "  writer.write(f)"
      ],
      "metadata": {
        "id": "0ZLH9BfPFrjl"
      },
      "execution_count": null,
      "outputs": []
    },
    {
      "cell_type": "code",
      "source": [
        "import os\n",
        "\n",
        "file_size = os.path.getsize(\"yolov9.pdf\")/(1024 * 1024)\n",
        "print( f\"yolo9.pdf size:{file_size}\")\n",
        "\n",
        "file_out = os.path.getsize(\"/content/out.pdf \")/(1024 * 1024)\n",
        "print(f\"out.pdf size :{file_out}\")"
      ],
      "metadata": {
        "id": "N82ifrpVGqVl"
      },
      "execution_count": null,
      "outputs": []
    },
    {
      "cell_type": "markdown",
      "source": [
        "# Day 38\n",
        "Link: https://www.facebook.com/groups/917108736015103/permalink/1084457679280207/"
      ],
      "metadata": {
        "id": "31qqnU2C_6fe"
      }
    },
    {
      "cell_type": "code",
      "source": [
        "!pip install wandb"
      ],
      "metadata": {
        "colab": {
          "base_uri": "https://localhost:8080/"
        },
        "id": "_GAxgauTJ8rK",
        "outputId": "147d587a-42b3-4c4c-c0ef-be2cb0094fd3"
      },
      "execution_count": null,
      "outputs": [
        {
          "output_type": "stream",
          "name": "stdout",
          "text": [
            "Requirement already satisfied: wandb in /usr/local/lib/python3.10/dist-packages (0.16.6)\n",
            "Requirement already satisfied: Click!=8.0.0,>=7.1 in /usr/local/lib/python3.10/dist-packages (from wandb) (8.1.7)\n",
            "Requirement already satisfied: GitPython!=3.1.29,>=1.0.0 in /usr/local/lib/python3.10/dist-packages (from wandb) (3.1.43)\n",
            "Requirement already satisfied: requests<3,>=2.0.0 in /usr/local/lib/python3.10/dist-packages (from wandb) (2.31.0)\n",
            "Requirement already satisfied: psutil>=5.0.0 in /usr/local/lib/python3.10/dist-packages (from wandb) (5.9.5)\n",
            "Requirement already satisfied: sentry-sdk>=1.0.0 in /usr/local/lib/python3.10/dist-packages (from wandb) (1.45.0)\n",
            "Requirement already satisfied: docker-pycreds>=0.4.0 in /usr/local/lib/python3.10/dist-packages (from wandb) (0.4.0)\n",
            "Requirement already satisfied: PyYAML in /usr/local/lib/python3.10/dist-packages (from wandb) (6.0.1)\n",
            "Requirement already satisfied: setproctitle in /usr/local/lib/python3.10/dist-packages (from wandb) (1.3.3)\n",
            "Requirement already satisfied: setuptools in /usr/local/lib/python3.10/dist-packages (from wandb) (67.7.2)\n",
            "Requirement already satisfied: appdirs>=1.4.3 in /usr/local/lib/python3.10/dist-packages (from wandb) (1.4.4)\n",
            "Requirement already satisfied: protobuf!=4.21.0,<5,>=3.19.0 in /usr/local/lib/python3.10/dist-packages (from wandb) (3.20.3)\n",
            "Requirement already satisfied: six>=1.4.0 in /usr/local/lib/python3.10/dist-packages (from docker-pycreds>=0.4.0->wandb) (1.16.0)\n",
            "Requirement already satisfied: gitdb<5,>=4.0.1 in /usr/local/lib/python3.10/dist-packages (from GitPython!=3.1.29,>=1.0.0->wandb) (4.0.11)\n",
            "Requirement already satisfied: charset-normalizer<4,>=2 in /usr/local/lib/python3.10/dist-packages (from requests<3,>=2.0.0->wandb) (3.3.2)\n",
            "Requirement already satisfied: idna<4,>=2.5 in /usr/local/lib/python3.10/dist-packages (from requests<3,>=2.0.0->wandb) (3.6)\n",
            "Requirement already satisfied: urllib3<3,>=1.21.1 in /usr/local/lib/python3.10/dist-packages (from requests<3,>=2.0.0->wandb) (2.0.7)\n",
            "Requirement already satisfied: certifi>=2017.4.17 in /usr/local/lib/python3.10/dist-packages (from requests<3,>=2.0.0->wandb) (2024.2.2)\n",
            "Requirement already satisfied: smmap<6,>=3.0.1 in /usr/local/lib/python3.10/dist-packages (from gitdb<5,>=4.0.1->GitPython!=3.1.29,>=1.0.0->wandb) (5.0.1)\n"
          ]
        }
      ]
    },
    {
      "cell_type": "code",
      "source": [
        "!wandb login"
      ],
      "metadata": {
        "colab": {
          "base_uri": "https://localhost:8080/"
        },
        "id": "27mMTdovJ-3t",
        "outputId": "7265bc90-2503-4184-e819-7fca08f880ee"
      },
      "execution_count": null,
      "outputs": [
        {
          "output_type": "stream",
          "name": "stdout",
          "text": [
            "\u001b[34m\u001b[1mwandb\u001b[0m: Currently logged in as: \u001b[33mdevkoi2k3\u001b[0m. Use \u001b[1m`wandb login --relogin`\u001b[0m to force relogin\n"
          ]
        }
      ]
    },
    {
      "cell_type": "code",
      "source": [
        "import pandas as pd\n",
        "import wandb\n",
        "\n",
        "areas = [6.7, 4.6, 3.5, 5.5]\n",
        "prices = [9.1, 5.9, 4.6, 6.7]\n",
        "dataset = pd.DataFrame({\n",
        "  'areas': areas,\n",
        "  'prices': prices\n",
        "})"
      ],
      "metadata": {
        "id": "qyph4JRAKMiN"
      },
      "execution_count": null,
      "outputs": []
    },
    {
      "cell_type": "code",
      "source": [
        "def predict (x, w, b):\n",
        "  return x * w + b\n",
        "\n",
        "def gradient(y_hat, y, x):\n",
        "  dw = 2 * x * (y_hat - y)\n",
        "  db = 2 * (y_hat - y)\n",
        "  return (dw, db)\n",
        "\n",
        "def update_weight(w, b, lr, dw, db):\n",
        "  w_new = w - lr * dw\n",
        "  b_new = b - lr * db\n",
        "  return ( w_new , b_new )\n"
      ],
      "metadata": {
        "id": "5C0U_fh1KTSJ"
      },
      "execution_count": null,
      "outputs": []
    },
    {
      "cell_type": "code",
      "source": [
        "b = 0.04\n",
        "w = -0.34\n",
        "lr = 0.01\n",
        "epochs = 10\n",
        "\n",
        "wandb.init(\n",
        "  project = \"demo-linear-regression\",\n",
        "  config = {\n",
        "    \"learning_rate\": lr,\n",
        "    \"epochs\": epochs,\n",
        "  },\n",
        ")\n",
        "\n",
        "wandb.run.log({\"Dataset\":wandb.Table(dataframe = dataset)})\n",
        "\n",
        "X_train = dataset['areas']\n",
        "Y_train = dataset['prices']\n",
        "N = len(X_train)\n",
        "\n",
        "losses = []\n",
        "for epoch in range(epochs):\n",
        "  for i in range(N):\n",
        "    x = X_train[i]\n",
        "    y = Y_train[i]\n",
        "    y_hat = predict(x, w, b)\n",
        "    loss = (y_hat-y)*(y_hat-y)/2.0\n",
        "    wandb.log({\"loss\":loss})\n",
        "    (dw,db) = gradient(y_hat, y, x)\n",
        "    (w, b) = update_weight(w, b, lr, dw, db)\n",
        "\n",
        "wandb.finish()"
      ],
      "metadata": {
        "id": "tUckPzlZKjYW"
      },
      "execution_count": null,
      "outputs": []
    },
    {
      "cell_type": "code",
      "source": [
        "import pandas as pd\n",
        "import wandb\n",
        "\n",
        "dataset = pd.read_csv('/content/advertising.csv')\n",
        "dataset.head()"
      ],
      "metadata": {
        "colab": {
          "base_uri": "https://localhost:8080/",
          "height": 206
        },
        "id": "SBjh3TEsMeKQ",
        "outputId": "75dd1168-ae58-4eac-acf0-9ce588579ce2"
      },
      "execution_count": null,
      "outputs": [
        {
          "output_type": "execute_result",
          "data": {
            "text/plain": [
              "      TV  Radio  Newspaper  Sales\n",
              "0  230.1   37.8       69.2   22.1\n",
              "1   44.5   39.3       45.1   10.4\n",
              "2   17.2   45.9       69.3   12.0\n",
              "3  151.5   41.3       58.5   16.5\n",
              "4  180.8   10.8       58.4   17.9"
            ],
            "text/html": [
              "\n",
              "  <div id=\"df-ab545e8c-c57b-4f75-a65a-ba43c6897b41\" class=\"colab-df-container\">\n",
              "    <div>\n",
              "<style scoped>\n",
              "    .dataframe tbody tr th:only-of-type {\n",
              "        vertical-align: middle;\n",
              "    }\n",
              "\n",
              "    .dataframe tbody tr th {\n",
              "        vertical-align: top;\n",
              "    }\n",
              "\n",
              "    .dataframe thead th {\n",
              "        text-align: right;\n",
              "    }\n",
              "</style>\n",
              "<table border=\"1\" class=\"dataframe\">\n",
              "  <thead>\n",
              "    <tr style=\"text-align: right;\">\n",
              "      <th></th>\n",
              "      <th>TV</th>\n",
              "      <th>Radio</th>\n",
              "      <th>Newspaper</th>\n",
              "      <th>Sales</th>\n",
              "    </tr>\n",
              "  </thead>\n",
              "  <tbody>\n",
              "    <tr>\n",
              "      <th>0</th>\n",
              "      <td>230.1</td>\n",
              "      <td>37.8</td>\n",
              "      <td>69.2</td>\n",
              "      <td>22.1</td>\n",
              "    </tr>\n",
              "    <tr>\n",
              "      <th>1</th>\n",
              "      <td>44.5</td>\n",
              "      <td>39.3</td>\n",
              "      <td>45.1</td>\n",
              "      <td>10.4</td>\n",
              "    </tr>\n",
              "    <tr>\n",
              "      <th>2</th>\n",
              "      <td>17.2</td>\n",
              "      <td>45.9</td>\n",
              "      <td>69.3</td>\n",
              "      <td>12.0</td>\n",
              "    </tr>\n",
              "    <tr>\n",
              "      <th>3</th>\n",
              "      <td>151.5</td>\n",
              "      <td>41.3</td>\n",
              "      <td>58.5</td>\n",
              "      <td>16.5</td>\n",
              "    </tr>\n",
              "    <tr>\n",
              "      <th>4</th>\n",
              "      <td>180.8</td>\n",
              "      <td>10.8</td>\n",
              "      <td>58.4</td>\n",
              "      <td>17.9</td>\n",
              "    </tr>\n",
              "  </tbody>\n",
              "</table>\n",
              "</div>\n",
              "    <div class=\"colab-df-buttons\">\n",
              "\n",
              "  <div class=\"colab-df-container\">\n",
              "    <button class=\"colab-df-convert\" onclick=\"convertToInteractive('df-ab545e8c-c57b-4f75-a65a-ba43c6897b41')\"\n",
              "            title=\"Convert this dataframe to an interactive table.\"\n",
              "            style=\"display:none;\">\n",
              "\n",
              "  <svg xmlns=\"http://www.w3.org/2000/svg\" height=\"24px\" viewBox=\"0 -960 960 960\">\n",
              "    <path d=\"M120-120v-720h720v720H120Zm60-500h600v-160H180v160Zm220 220h160v-160H400v160Zm0 220h160v-160H400v160ZM180-400h160v-160H180v160Zm440 0h160v-160H620v160ZM180-180h160v-160H180v160Zm440 0h160v-160H620v160Z\"/>\n",
              "  </svg>\n",
              "    </button>\n",
              "\n",
              "  <style>\n",
              "    .colab-df-container {\n",
              "      display:flex;\n",
              "      gap: 12px;\n",
              "    }\n",
              "\n",
              "    .colab-df-convert {\n",
              "      background-color: #E8F0FE;\n",
              "      border: none;\n",
              "      border-radius: 50%;\n",
              "      cursor: pointer;\n",
              "      display: none;\n",
              "      fill: #1967D2;\n",
              "      height: 32px;\n",
              "      padding: 0 0 0 0;\n",
              "      width: 32px;\n",
              "    }\n",
              "\n",
              "    .colab-df-convert:hover {\n",
              "      background-color: #E2EBFA;\n",
              "      box-shadow: 0px 1px 2px rgba(60, 64, 67, 0.3), 0px 1px 3px 1px rgba(60, 64, 67, 0.15);\n",
              "      fill: #174EA6;\n",
              "    }\n",
              "\n",
              "    .colab-df-buttons div {\n",
              "      margin-bottom: 4px;\n",
              "    }\n",
              "\n",
              "    [theme=dark] .colab-df-convert {\n",
              "      background-color: #3B4455;\n",
              "      fill: #D2E3FC;\n",
              "    }\n",
              "\n",
              "    [theme=dark] .colab-df-convert:hover {\n",
              "      background-color: #434B5C;\n",
              "      box-shadow: 0px 1px 3px 1px rgba(0, 0, 0, 0.15);\n",
              "      filter: drop-shadow(0px 1px 2px rgba(0, 0, 0, 0.3));\n",
              "      fill: #FFFFFF;\n",
              "    }\n",
              "  </style>\n",
              "\n",
              "    <script>\n",
              "      const buttonEl =\n",
              "        document.querySelector('#df-ab545e8c-c57b-4f75-a65a-ba43c6897b41 button.colab-df-convert');\n",
              "      buttonEl.style.display =\n",
              "        google.colab.kernel.accessAllowed ? 'block' : 'none';\n",
              "\n",
              "      async function convertToInteractive(key) {\n",
              "        const element = document.querySelector('#df-ab545e8c-c57b-4f75-a65a-ba43c6897b41');\n",
              "        const dataTable =\n",
              "          await google.colab.kernel.invokeFunction('convertToInteractive',\n",
              "                                                    [key], {});\n",
              "        if (!dataTable) return;\n",
              "\n",
              "        const docLinkHtml = 'Like what you see? Visit the ' +\n",
              "          '<a target=\"_blank\" href=https://colab.research.google.com/notebooks/data_table.ipynb>data table notebook</a>'\n",
              "          + ' to learn more about interactive tables.';\n",
              "        element.innerHTML = '';\n",
              "        dataTable['output_type'] = 'display_data';\n",
              "        await google.colab.output.renderOutput(dataTable, element);\n",
              "        const docLink = document.createElement('div');\n",
              "        docLink.innerHTML = docLinkHtml;\n",
              "        element.appendChild(docLink);\n",
              "      }\n",
              "    </script>\n",
              "  </div>\n",
              "\n",
              "\n",
              "<div id=\"df-aa4e5981-cda6-40d9-bc00-f06f3666c43e\">\n",
              "  <button class=\"colab-df-quickchart\" onclick=\"quickchart('df-aa4e5981-cda6-40d9-bc00-f06f3666c43e')\"\n",
              "            title=\"Suggest charts\"\n",
              "            style=\"display:none;\">\n",
              "\n",
              "<svg xmlns=\"http://www.w3.org/2000/svg\" height=\"24px\"viewBox=\"0 0 24 24\"\n",
              "     width=\"24px\">\n",
              "    <g>\n",
              "        <path d=\"M19 3H5c-1.1 0-2 .9-2 2v14c0 1.1.9 2 2 2h14c1.1 0 2-.9 2-2V5c0-1.1-.9-2-2-2zM9 17H7v-7h2v7zm4 0h-2V7h2v10zm4 0h-2v-4h2v4z\"/>\n",
              "    </g>\n",
              "</svg>\n",
              "  </button>\n",
              "\n",
              "<style>\n",
              "  .colab-df-quickchart {\n",
              "      --bg-color: #E8F0FE;\n",
              "      --fill-color: #1967D2;\n",
              "      --hover-bg-color: #E2EBFA;\n",
              "      --hover-fill-color: #174EA6;\n",
              "      --disabled-fill-color: #AAA;\n",
              "      --disabled-bg-color: #DDD;\n",
              "  }\n",
              "\n",
              "  [theme=dark] .colab-df-quickchart {\n",
              "      --bg-color: #3B4455;\n",
              "      --fill-color: #D2E3FC;\n",
              "      --hover-bg-color: #434B5C;\n",
              "      --hover-fill-color: #FFFFFF;\n",
              "      --disabled-bg-color: #3B4455;\n",
              "      --disabled-fill-color: #666;\n",
              "  }\n",
              "\n",
              "  .colab-df-quickchart {\n",
              "    background-color: var(--bg-color);\n",
              "    border: none;\n",
              "    border-radius: 50%;\n",
              "    cursor: pointer;\n",
              "    display: none;\n",
              "    fill: var(--fill-color);\n",
              "    height: 32px;\n",
              "    padding: 0;\n",
              "    width: 32px;\n",
              "  }\n",
              "\n",
              "  .colab-df-quickchart:hover {\n",
              "    background-color: var(--hover-bg-color);\n",
              "    box-shadow: 0 1px 2px rgba(60, 64, 67, 0.3), 0 1px 3px 1px rgba(60, 64, 67, 0.15);\n",
              "    fill: var(--button-hover-fill-color);\n",
              "  }\n",
              "\n",
              "  .colab-df-quickchart-complete:disabled,\n",
              "  .colab-df-quickchart-complete:disabled:hover {\n",
              "    background-color: var(--disabled-bg-color);\n",
              "    fill: var(--disabled-fill-color);\n",
              "    box-shadow: none;\n",
              "  }\n",
              "\n",
              "  .colab-df-spinner {\n",
              "    border: 2px solid var(--fill-color);\n",
              "    border-color: transparent;\n",
              "    border-bottom-color: var(--fill-color);\n",
              "    animation:\n",
              "      spin 1s steps(1) infinite;\n",
              "  }\n",
              "\n",
              "  @keyframes spin {\n",
              "    0% {\n",
              "      border-color: transparent;\n",
              "      border-bottom-color: var(--fill-color);\n",
              "      border-left-color: var(--fill-color);\n",
              "    }\n",
              "    20% {\n",
              "      border-color: transparent;\n",
              "      border-left-color: var(--fill-color);\n",
              "      border-top-color: var(--fill-color);\n",
              "    }\n",
              "    30% {\n",
              "      border-color: transparent;\n",
              "      border-left-color: var(--fill-color);\n",
              "      border-top-color: var(--fill-color);\n",
              "      border-right-color: var(--fill-color);\n",
              "    }\n",
              "    40% {\n",
              "      border-color: transparent;\n",
              "      border-right-color: var(--fill-color);\n",
              "      border-top-color: var(--fill-color);\n",
              "    }\n",
              "    60% {\n",
              "      border-color: transparent;\n",
              "      border-right-color: var(--fill-color);\n",
              "    }\n",
              "    80% {\n",
              "      border-color: transparent;\n",
              "      border-right-color: var(--fill-color);\n",
              "      border-bottom-color: var(--fill-color);\n",
              "    }\n",
              "    90% {\n",
              "      border-color: transparent;\n",
              "      border-bottom-color: var(--fill-color);\n",
              "    }\n",
              "  }\n",
              "</style>\n",
              "\n",
              "  <script>\n",
              "    async function quickchart(key) {\n",
              "      const quickchartButtonEl =\n",
              "        document.querySelector('#' + key + ' button');\n",
              "      quickchartButtonEl.disabled = true;  // To prevent multiple clicks.\n",
              "      quickchartButtonEl.classList.add('colab-df-spinner');\n",
              "      try {\n",
              "        const charts = await google.colab.kernel.invokeFunction(\n",
              "            'suggestCharts', [key], {});\n",
              "      } catch (error) {\n",
              "        console.error('Error during call to suggestCharts:', error);\n",
              "      }\n",
              "      quickchartButtonEl.classList.remove('colab-df-spinner');\n",
              "      quickchartButtonEl.classList.add('colab-df-quickchart-complete');\n",
              "    }\n",
              "    (() => {\n",
              "      let quickchartButtonEl =\n",
              "        document.querySelector('#df-aa4e5981-cda6-40d9-bc00-f06f3666c43e button');\n",
              "      quickchartButtonEl.style.display =\n",
              "        google.colab.kernel.accessAllowed ? 'block' : 'none';\n",
              "    })();\n",
              "  </script>\n",
              "</div>\n",
              "\n",
              "    </div>\n",
              "  </div>\n"
            ],
            "application/vnd.google.colaboratory.intrinsic+json": {
              "type": "dataframe",
              "variable_name": "dataset",
              "summary": "{\n  \"name\": \"dataset\",\n  \"rows\": 200,\n  \"fields\": [\n    {\n      \"column\": \"TV\",\n      \"properties\": {\n        \"dtype\": \"number\",\n        \"std\": 85.85423631490808,\n        \"min\": 0.7,\n        \"max\": 296.4,\n        \"num_unique_values\": 190,\n        \"samples\": [\n          287.6,\n          286.0,\n          78.2\n        ],\n        \"semantic_type\": \"\",\n        \"description\": \"\"\n      }\n    },\n    {\n      \"column\": \"Radio\",\n      \"properties\": {\n        \"dtype\": \"number\",\n        \"std\": 14.846809176168724,\n        \"min\": 0.0,\n        \"max\": 49.6,\n        \"num_unique_values\": 167,\n        \"samples\": [\n          8.2,\n          36.9,\n          44.5\n        ],\n        \"semantic_type\": \"\",\n        \"description\": \"\"\n      }\n    },\n    {\n      \"column\": \"Newspaper\",\n      \"properties\": {\n        \"dtype\": \"number\",\n        \"std\": 21.778620838522826,\n        \"min\": 0.3,\n        \"max\": 114.0,\n        \"num_unique_values\": 172,\n        \"samples\": [\n          22.3,\n          5.7,\n          17.0\n        ],\n        \"semantic_type\": \"\",\n        \"description\": \"\"\n      }\n    },\n    {\n      \"column\": \"Sales\",\n      \"properties\": {\n        \"dtype\": \"number\",\n        \"std\": 5.283892252561876,\n        \"min\": 1.6,\n        \"max\": 27.0,\n        \"num_unique_values\": 121,\n        \"samples\": [\n          19.8,\n          22.6,\n          17.9\n        ],\n        \"semantic_type\": \"\",\n        \"description\": \"\"\n      }\n    }\n  ]\n}"
            }
          },
          "metadata": {},
          "execution_count": 13
        }
      ]
    },
    {
      "cell_type": "code",
      "source": [
        "b = 1\n",
        "w = 0\n",
        "lr = 0.01\n",
        "epochs = 1000\n",
        "\n",
        "wandb.init(\n",
        "  project = \"AIO1000\",\n",
        "  config = {\n",
        "    \"learning_rate\": 0.1,\n",
        "    \"epochs\": 1000,\n",
        "  },\n",
        ")\n",
        "\n",
        "wandb.run.log({\"Dataset\":wandb.Table(dataframe = dataset)})\n",
        "\n",
        "X_train = dataset['Radio']\n",
        "Y_train = dataset['Sales']\n",
        "N = len(X_train)\n",
        "\n",
        "losses = []\n",
        "for epoch in range(epochs):\n",
        "  print(epoch)\n",
        "  for i in range(N):\n",
        "    x = X_train[i]\n",
        "    y = Y_train[i]\n",
        "    y_hat = predict(x, w, b)\n",
        "    loss = (y_hat-y)*(y_hat-y)/2.0\n",
        "  wandb.log({\"loss\":loss})\n",
        "  (dw,db) = gradient(y_hat, y, x)\n",
        "  (w, b) = update_weight(w, b, lr, dw, db)\n",
        "\n",
        "wandb.finish()"
      ],
      "metadata": {
        "colab": {
          "base_uri": "https://localhost:8080/",
          "height": 1000,
          "referenced_widgets": [
            "51e77a7e81884173a0d07e9429c59bd1",
            "7eb081f8585a42168e900c0fa3604651",
            "293e765faef04966815775ab372ac54d",
            "f8c0e83a5b0a42b482f4e931ec3a746b",
            "079b368955de463286e39e2e0438a1ea",
            "0afba09ac2fc40c3aef94fb9e3e519fb",
            "5f4dd1bf238f4d6296ef87f8f90ef658",
            "7b439dc9895b4dfca496e1f252821766"
          ]
        },
        "id": "UtQc5wrbMAPK",
        "outputId": "9ece6b59-75ab-4ed2-bb0a-ec1c0e2a66fe"
      },
      "execution_count": null,
      "outputs": [
        {
          "output_type": "stream",
          "name": "stderr",
          "text": [
            "\u001b[34m\u001b[1mwandb\u001b[0m: Currently logged in as: \u001b[33mdevkoi2k3\u001b[0m. Use \u001b[1m`wandb login --relogin`\u001b[0m to force relogin\n"
          ]
        },
        {
          "output_type": "display_data",
          "data": {
            "text/plain": [
              "<IPython.core.display.HTML object>"
            ],
            "text/html": [
              "Tracking run with wandb version 0.16.6"
            ]
          },
          "metadata": {}
        },
        {
          "output_type": "display_data",
          "data": {
            "text/plain": [
              "<IPython.core.display.HTML object>"
            ],
            "text/html": [
              "Run data is saved locally in <code>/content/wandb/run-20240414_114006-7clu7kyk</code>"
            ]
          },
          "metadata": {}
        },
        {
          "output_type": "display_data",
          "data": {
            "text/plain": [
              "<IPython.core.display.HTML object>"
            ],
            "text/html": [
              "Syncing run <strong><a href='https://wandb.ai/devkoi2k3/AIO1000/runs/7clu7kyk' target=\"_blank\">sage-morning-1</a></strong> to <a href='https://wandb.ai/devkoi2k3/AIO1000' target=\"_blank\">Weights & Biases</a> (<a href='https://wandb.me/run' target=\"_blank\">docs</a>)<br/>"
            ]
          },
          "metadata": {}
        },
        {
          "output_type": "display_data",
          "data": {
            "text/plain": [
              "<IPython.core.display.HTML object>"
            ],
            "text/html": [
              " View project at <a href='https://wandb.ai/devkoi2k3/AIO1000' target=\"_blank\">https://wandb.ai/devkoi2k3/AIO1000</a>"
            ]
          },
          "metadata": {}
        },
        {
          "output_type": "display_data",
          "data": {
            "text/plain": [
              "<IPython.core.display.HTML object>"
            ],
            "text/html": [
              " View run at <a href='https://wandb.ai/devkoi2k3/AIO1000/runs/7clu7kyk' target=\"_blank\">https://wandb.ai/devkoi2k3/AIO1000/runs/7clu7kyk</a>"
            ]
          },
          "metadata": {}
        },
        {
          "output_type": "stream",
          "name": "stdout",
          "text": [
            "0\n",
            "1\n",
            "2\n",
            "3\n",
            "4\n",
            "5\n",
            "6\n",
            "7\n",
            "8\n",
            "9\n",
            "10\n",
            "11\n",
            "12\n",
            "13\n",
            "14\n",
            "15\n",
            "16\n",
            "17\n",
            "18\n",
            "19\n",
            "20\n",
            "21\n",
            "22\n",
            "23\n",
            "24\n",
            "25\n",
            "26\n",
            "27\n",
            "28\n",
            "29\n",
            "30\n",
            "31\n",
            "32\n",
            "33\n",
            "34\n",
            "35\n",
            "36\n",
            "37\n",
            "38\n",
            "39\n",
            "40\n",
            "41\n",
            "42\n",
            "43\n",
            "44\n",
            "45\n",
            "46\n",
            "47\n",
            "48\n",
            "49\n",
            "50\n",
            "51\n",
            "52\n",
            "53\n",
            "54\n",
            "55\n",
            "56\n",
            "57\n",
            "58\n",
            "59\n",
            "60\n",
            "61\n",
            "62\n",
            "63\n",
            "64\n",
            "65\n",
            "66\n",
            "67\n",
            "68\n",
            "69\n",
            "70\n",
            "71\n",
            "72\n",
            "73\n",
            "74\n",
            "75\n",
            "76\n",
            "77\n",
            "78\n",
            "79\n",
            "80\n",
            "81\n",
            "82\n",
            "83\n",
            "84\n",
            "85\n",
            "86\n",
            "87\n",
            "88\n",
            "89\n",
            "90\n",
            "91\n",
            "92\n",
            "93\n",
            "94\n",
            "95\n",
            "96\n",
            "97\n",
            "98\n",
            "99\n",
            "100\n",
            "101\n",
            "102\n",
            "103\n",
            "104\n",
            "105\n",
            "106\n",
            "107\n",
            "108\n",
            "109\n",
            "110\n",
            "111\n",
            "112\n",
            "113\n",
            "114\n",
            "115\n",
            "116\n",
            "117\n",
            "118\n",
            "119\n",
            "120\n",
            "121\n",
            "122\n",
            "123\n",
            "124\n",
            "125\n",
            "126\n",
            "127\n",
            "128\n",
            "129\n",
            "130\n",
            "131\n",
            "132\n",
            "133\n",
            "134\n",
            "135\n",
            "136\n",
            "137\n",
            "138\n",
            "139\n",
            "140\n",
            "141\n",
            "142\n",
            "143\n",
            "144\n",
            "145\n",
            "146\n",
            "147\n",
            "148\n",
            "149\n",
            "150\n",
            "151\n",
            "152\n",
            "153\n",
            "154\n",
            "155\n",
            "156\n",
            "157\n",
            "158\n",
            "159\n",
            "160\n",
            "161\n",
            "162\n",
            "163\n",
            "164\n",
            "165\n",
            "166\n",
            "167\n",
            "168\n",
            "169\n",
            "170\n",
            "171\n",
            "172\n",
            "173\n",
            "174\n",
            "175\n",
            "176\n",
            "177\n",
            "178\n",
            "179\n",
            "180\n",
            "181\n",
            "182\n",
            "183\n",
            "184\n",
            "185\n",
            "186\n",
            "187\n",
            "188\n",
            "189\n",
            "190\n",
            "191\n",
            "192\n",
            "193\n",
            "194\n",
            "195\n",
            "196\n",
            "197\n",
            "198\n",
            "199\n",
            "200\n",
            "201\n",
            "202\n",
            "203\n",
            "204\n",
            "205\n",
            "206\n",
            "207\n",
            "208\n",
            "209\n",
            "210\n",
            "211\n",
            "212\n",
            "213\n",
            "214\n",
            "215\n",
            "216\n",
            "217\n",
            "218\n",
            "219\n",
            "220\n",
            "221\n",
            "222\n",
            "223\n",
            "224\n",
            "225\n",
            "226\n",
            "227\n",
            "228\n",
            "229\n",
            "230\n",
            "231\n",
            "232\n",
            "233\n",
            "234\n",
            "235\n",
            "236\n",
            "237\n",
            "238\n",
            "239\n",
            "240\n",
            "241\n",
            "242\n",
            "243\n",
            "244\n",
            "245\n",
            "246\n",
            "247\n",
            "248\n",
            "249\n",
            "250\n",
            "251\n",
            "252\n",
            "253\n",
            "254\n",
            "255\n",
            "256\n",
            "257\n",
            "258\n",
            "259\n",
            "260\n",
            "261\n",
            "262\n",
            "263\n",
            "264\n",
            "265\n",
            "266\n",
            "267\n",
            "268\n",
            "269\n",
            "270\n",
            "271\n",
            "272\n",
            "273\n",
            "274\n",
            "275\n",
            "276\n",
            "277\n",
            "278\n",
            "279\n",
            "280\n",
            "281\n",
            "282\n",
            "283\n",
            "284\n",
            "285\n",
            "286\n",
            "287\n",
            "288\n",
            "289\n",
            "290\n",
            "291\n",
            "292\n",
            "293\n",
            "294\n",
            "295\n",
            "296\n",
            "297\n",
            "298\n",
            "299\n",
            "300\n",
            "301\n",
            "302\n",
            "303\n",
            "304\n",
            "305\n",
            "306\n",
            "307\n",
            "308\n",
            "309\n",
            "310\n",
            "311\n",
            "312\n",
            "313\n",
            "314\n",
            "315\n",
            "316\n",
            "317\n",
            "318\n",
            "319\n",
            "320\n",
            "321\n",
            "322\n",
            "323\n",
            "324\n",
            "325\n",
            "326\n",
            "327\n",
            "328\n",
            "329\n",
            "330\n",
            "331\n",
            "332\n",
            "333\n",
            "334\n",
            "335\n",
            "336\n",
            "337\n",
            "338\n",
            "339\n",
            "340\n",
            "341\n",
            "342\n",
            "343\n",
            "344\n",
            "345\n",
            "346\n",
            "347\n",
            "348\n",
            "349\n",
            "350\n",
            "351\n",
            "352\n",
            "353\n",
            "354\n",
            "355\n",
            "356\n",
            "357\n",
            "358\n",
            "359\n",
            "360\n",
            "361\n",
            "362\n",
            "363\n",
            "364\n",
            "365\n",
            "366\n",
            "367\n",
            "368\n",
            "369\n",
            "370\n",
            "371\n",
            "372\n",
            "373\n",
            "374\n",
            "375\n",
            "376\n",
            "377\n",
            "378\n",
            "379\n",
            "380\n",
            "381\n",
            "382\n",
            "383\n",
            "384\n",
            "385\n",
            "386\n",
            "387\n",
            "388\n",
            "389\n",
            "390\n",
            "391\n",
            "392\n",
            "393\n",
            "394\n",
            "395\n",
            "396\n",
            "397\n",
            "398\n",
            "399\n",
            "400\n",
            "401\n",
            "402\n",
            "403\n",
            "404\n",
            "405\n",
            "406\n",
            "407\n",
            "408\n",
            "409\n",
            "410\n",
            "411\n",
            "412\n",
            "413\n",
            "414\n",
            "415\n",
            "416\n",
            "417\n",
            "418\n",
            "419\n",
            "420\n",
            "421\n",
            "422\n",
            "423\n",
            "424\n",
            "425\n",
            "426\n",
            "427\n",
            "428\n",
            "429\n",
            "430\n",
            "431\n",
            "432\n",
            "433\n",
            "434\n",
            "435\n",
            "436\n",
            "437\n",
            "438\n",
            "439\n",
            "440\n",
            "441\n",
            "442\n",
            "443\n",
            "444\n",
            "445\n",
            "446\n",
            "447\n",
            "448\n",
            "449\n",
            "450\n",
            "451\n",
            "452\n",
            "453\n",
            "454\n",
            "455\n",
            "456\n",
            "457\n",
            "458\n",
            "459\n",
            "460\n",
            "461\n",
            "462\n",
            "463\n",
            "464\n",
            "465\n",
            "466\n",
            "467\n",
            "468\n",
            "469\n",
            "470\n",
            "471\n",
            "472\n",
            "473\n",
            "474\n",
            "475\n",
            "476\n",
            "477\n",
            "478\n",
            "479\n",
            "480\n",
            "481\n",
            "482\n",
            "483\n",
            "484\n",
            "485\n",
            "486\n",
            "487\n",
            "488\n",
            "489\n",
            "490\n",
            "491\n",
            "492\n",
            "493\n",
            "494\n",
            "495\n",
            "496\n",
            "497\n",
            "498\n",
            "499\n",
            "500\n",
            "501\n",
            "502\n",
            "503\n",
            "504\n",
            "505\n",
            "506\n",
            "507\n",
            "508\n",
            "509\n",
            "510\n",
            "511\n",
            "512\n",
            "513\n",
            "514\n",
            "515\n",
            "516\n",
            "517\n",
            "518\n",
            "519\n",
            "520\n",
            "521\n",
            "522\n",
            "523\n",
            "524\n",
            "525\n",
            "526\n",
            "527\n",
            "528\n",
            "529\n",
            "530\n",
            "531\n",
            "532\n",
            "533\n",
            "534\n",
            "535\n",
            "536\n",
            "537\n",
            "538\n",
            "539\n",
            "540\n",
            "541\n",
            "542\n",
            "543\n",
            "544\n",
            "545\n",
            "546\n",
            "547\n",
            "548\n",
            "549\n",
            "550\n",
            "551\n",
            "552\n",
            "553\n",
            "554\n",
            "555\n",
            "556\n",
            "557\n",
            "558\n",
            "559\n",
            "560\n",
            "561\n",
            "562\n",
            "563\n",
            "564\n",
            "565\n",
            "566\n",
            "567\n",
            "568\n",
            "569\n",
            "570\n",
            "571\n",
            "572\n",
            "573\n",
            "574\n",
            "575\n",
            "576\n",
            "577\n",
            "578\n",
            "579\n",
            "580\n",
            "581\n",
            "582\n",
            "583\n",
            "584\n",
            "585\n",
            "586\n",
            "587\n",
            "588\n",
            "589\n",
            "590\n",
            "591\n",
            "592\n",
            "593\n",
            "594\n",
            "595\n",
            "596\n",
            "597\n",
            "598\n",
            "599\n",
            "600\n",
            "601\n",
            "602\n",
            "603\n",
            "604\n",
            "605\n",
            "606\n",
            "607\n",
            "608\n",
            "609\n",
            "610\n",
            "611\n",
            "612\n",
            "613\n",
            "614\n",
            "615\n",
            "616\n",
            "617\n",
            "618\n",
            "619\n",
            "620\n",
            "621\n",
            "622\n",
            "623\n",
            "624\n",
            "625\n",
            "626\n",
            "627\n",
            "628\n",
            "629\n",
            "630\n",
            "631\n",
            "632\n",
            "633\n",
            "634\n",
            "635\n",
            "636\n",
            "637\n",
            "638\n",
            "639\n",
            "640\n",
            "641\n",
            "642\n",
            "643\n",
            "644\n",
            "645\n",
            "646\n",
            "647\n",
            "648\n",
            "649\n",
            "650\n",
            "651\n",
            "652\n",
            "653\n",
            "654\n",
            "655\n",
            "656\n",
            "657\n",
            "658\n",
            "659\n",
            "660\n",
            "661\n",
            "662\n",
            "663\n",
            "664\n",
            "665\n",
            "666\n",
            "667\n",
            "668\n",
            "669\n",
            "670\n",
            "671\n",
            "672\n",
            "673\n",
            "674\n",
            "675\n",
            "676\n",
            "677\n",
            "678\n",
            "679\n",
            "680\n",
            "681\n",
            "682\n",
            "683\n",
            "684\n",
            "685\n",
            "686\n",
            "687\n",
            "688\n",
            "689\n",
            "690\n",
            "691\n",
            "692\n",
            "693\n",
            "694\n",
            "695\n",
            "696\n",
            "697\n",
            "698\n",
            "699\n",
            "700\n",
            "701\n",
            "702\n",
            "703\n",
            "704\n",
            "705\n",
            "706\n",
            "707\n",
            "708\n",
            "709\n",
            "710\n",
            "711\n",
            "712\n",
            "713\n",
            "714\n",
            "715\n",
            "716\n",
            "717\n",
            "718\n",
            "719\n",
            "720\n",
            "721\n",
            "722\n",
            "723\n",
            "724\n",
            "725\n",
            "726\n",
            "727\n",
            "728\n",
            "729\n",
            "730\n",
            "731\n",
            "732\n",
            "733\n",
            "734\n",
            "735\n",
            "736\n",
            "737\n",
            "738\n",
            "739\n",
            "740\n",
            "741\n",
            "742\n",
            "743\n",
            "744\n",
            "745\n",
            "746\n",
            "747\n",
            "748\n",
            "749\n",
            "750\n",
            "751\n",
            "752\n",
            "753\n",
            "754\n",
            "755\n",
            "756\n",
            "757\n",
            "758\n",
            "759\n",
            "760\n",
            "761\n",
            "762\n",
            "763\n",
            "764\n",
            "765\n",
            "766\n",
            "767\n",
            "768\n",
            "769\n",
            "770\n",
            "771\n",
            "772\n",
            "773\n",
            "774\n",
            "775\n",
            "776\n",
            "777\n",
            "778\n",
            "779\n",
            "780\n",
            "781\n",
            "782\n",
            "783\n",
            "784\n",
            "785\n",
            "786\n",
            "787\n",
            "788\n",
            "789\n",
            "790\n",
            "791\n",
            "792\n",
            "793\n",
            "794\n",
            "795\n",
            "796\n",
            "797\n",
            "798\n",
            "799\n",
            "800\n",
            "801\n",
            "802\n",
            "803\n",
            "804\n",
            "805\n",
            "806\n",
            "807\n",
            "808\n",
            "809\n",
            "810\n",
            "811\n",
            "812\n",
            "813\n",
            "814\n",
            "815\n",
            "816\n",
            "817\n",
            "818\n",
            "819\n",
            "820\n",
            "821\n",
            "822\n",
            "823\n",
            "824\n",
            "825\n",
            "826\n",
            "827\n",
            "828\n",
            "829\n",
            "830\n",
            "831\n",
            "832\n",
            "833\n",
            "834\n",
            "835\n",
            "836\n",
            "837\n",
            "838\n",
            "839\n",
            "840\n",
            "841\n",
            "842\n",
            "843\n",
            "844\n",
            "845\n",
            "846\n",
            "847\n",
            "848\n",
            "849\n",
            "850\n",
            "851\n",
            "852\n",
            "853\n",
            "854\n",
            "855\n",
            "856\n",
            "857\n",
            "858\n",
            "859\n",
            "860\n",
            "861\n",
            "862\n",
            "863\n",
            "864\n",
            "865\n",
            "866\n",
            "867\n",
            "868\n",
            "869\n",
            "870\n",
            "871\n",
            "872\n",
            "873\n",
            "874\n",
            "875\n",
            "876\n",
            "877\n",
            "878\n",
            "879\n",
            "880\n",
            "881\n",
            "882\n",
            "883\n",
            "884\n",
            "885\n",
            "886\n",
            "887\n",
            "888\n",
            "889\n",
            "890\n",
            "891\n",
            "892\n",
            "893\n",
            "894\n",
            "895\n",
            "896\n",
            "897\n",
            "898\n",
            "899\n",
            "900\n",
            "901\n",
            "902\n",
            "903\n",
            "904\n",
            "905\n",
            "906\n",
            "907\n",
            "908\n",
            "909\n",
            "910\n",
            "911\n",
            "912\n",
            "913\n",
            "914\n",
            "915\n",
            "916\n",
            "917\n",
            "918\n",
            "919\n",
            "920\n",
            "921\n",
            "922\n",
            "923\n",
            "924\n",
            "925\n",
            "926\n",
            "927\n",
            "928\n",
            "929\n",
            "930\n",
            "931\n",
            "932\n",
            "933\n",
            "934\n",
            "935\n",
            "936\n",
            "937\n",
            "938\n",
            "939\n",
            "940\n",
            "941\n",
            "942\n",
            "943\n",
            "944\n",
            "945\n",
            "946\n",
            "947\n",
            "948\n",
            "949\n",
            "950\n",
            "951\n",
            "952\n",
            "953\n",
            "954\n",
            "955\n",
            "956\n",
            "957\n",
            "958\n",
            "959\n",
            "960\n",
            "961\n",
            "962\n",
            "963\n",
            "964\n",
            "965\n",
            "966\n",
            "967\n",
            "968\n",
            "969\n",
            "970\n",
            "971\n",
            "972\n",
            "973\n",
            "974\n",
            "975\n",
            "976\n",
            "977\n",
            "978\n",
            "979\n",
            "980\n",
            "981\n",
            "982\n",
            "983\n",
            "984\n",
            "985\n",
            "986\n",
            "987\n",
            "988\n",
            "989\n",
            "990\n",
            "991\n",
            "992\n",
            "993\n",
            "994\n",
            "995\n",
            "996\n",
            "997\n",
            "998\n",
            "999\n"
          ]
        },
        {
          "output_type": "display_data",
          "data": {
            "text/plain": [
              "VBox(children=(Label(value='0.012 MB of 0.012 MB uploaded\\r'), FloatProgress(value=1.0, max=1.0)))"
            ],
            "application/vnd.jupyter.widget-view+json": {
              "version_major": 2,
              "version_minor": 0,
              "model_id": "51e77a7e81884173a0d07e9429c59bd1"
            }
          },
          "metadata": {}
        },
        {
          "output_type": "display_data",
          "data": {
            "text/plain": [
              "<IPython.core.display.HTML object>"
            ],
            "text/html": [
              "<style>\n",
              "    table.wandb td:nth-child(1) { padding: 0 10px; text-align: left ; width: auto;} td:nth-child(2) {text-align: left ; width: 100%}\n",
              "    .wandb-row { display: flex; flex-direction: row; flex-wrap: wrap; justify-content: flex-start; width: 100% }\n",
              "    .wandb-col { display: flex; flex-direction: column; flex-basis: 100%; flex: 1; padding: 10px; }\n",
              "    </style>\n",
              "<div class=\"wandb-row\"><div class=\"wandb-col\"><h3>Run history:</h3><br/><table class=\"wandb\"><tr><td>loss</td><td>█▁▁▁▁▁▁▁▁▁▁▁▁▁▁▁▁▁▁▁▁▁▁▁▁▁▁▁▁▁▁▁▁▁▁▁▁▁▁▁</td></tr></table><br/></div><div class=\"wandb-col\"><h3>Run summary:</h3><br/><table class=\"wandb\"><tr><td>loss</td><td>0.0</td></tr></table><br/></div></div>"
            ]
          },
          "metadata": {}
        },
        {
          "output_type": "display_data",
          "data": {
            "text/plain": [
              "<IPython.core.display.HTML object>"
            ],
            "text/html": [
              " View run <strong style=\"color:#cdcd00\">sage-morning-1</strong> at: <a href='https://wandb.ai/devkoi2k3/AIO1000/runs/7clu7kyk' target=\"_blank\">https://wandb.ai/devkoi2k3/AIO1000/runs/7clu7kyk</a><br/> View project at: <a href='https://wandb.ai/devkoi2k3/AIO1000' target=\"_blank\">https://wandb.ai/devkoi2k3/AIO1000</a><br/>Synced 5 W&B file(s), 1 media file(s), 1 artifact file(s) and 0 other file(s)"
            ]
          },
          "metadata": {}
        },
        {
          "output_type": "display_data",
          "data": {
            "text/plain": [
              "<IPython.core.display.HTML object>"
            ],
            "text/html": [
              "Find logs at: <code>./wandb/run-20240414_114006-7clu7kyk/logs</code>"
            ]
          },
          "metadata": {}
        }
      ]
    },
    {
      "cell_type": "code",
      "source": [
        "wandb.finish()"
      ],
      "metadata": {
        "id": "n3XRi8_CUhej"
      },
      "execution_count": null,
      "outputs": []
    },
    {
      "cell_type": "markdown",
      "source": [
        "# Day 39\n",
        "Link: https://www.facebook.com/groups/917108736015103/posts/1086651589060816"
      ],
      "metadata": {
        "id": "7HECbWJ6_7Bi"
      }
    },
    {
      "cell_type": "markdown",
      "source": [
        "![image.png](data:image/png;base64,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)"
      ],
      "metadata": {
        "id": "ZW0Cru0bWt6i"
      }
    },
    {
      "cell_type": "markdown",
      "source": [
        "# Day 40\n",
        "Link: https://www.facebook.com/groups/917108736015103/posts/1087188682340440"
      ],
      "metadata": {
        "id": "2b_lP8Q6_7xd"
      }
    },
    {
      "cell_type": "markdown",
      "source": [
        "Self Review & Practice\n"
      ],
      "metadata": {
        "id": "Cjb4Ch2VXLA8"
      }
    }
  ],
  "metadata": {
    "colab": {
      "collapsed_sections": [
        "Gr4o1R2rl7ig",
        "15S1XfPonHsV",
        "3Xx0-wLeuN8y",
        "HC4_nNSyxcrK",
        "spoMe8PUzEvV",
        "CO7LOAbR1II7",
        "_PX3QoS84NBE",
        "pUzgeXgM75GK",
        "pbycbK8DAueQ",
        "sGDH7RtzGVXm",
        "pXR5AGpAJCi8",
        "7vrcLVF8aEGg",
        "8VNRGFiemd9A",
        "bKzKMsm4nzIZ",
        "yImVQWvKuiap",
        "e3NJp6vvulGP",
        "zekfl0XFumZB",
        "QdC-Pz-2unBe",
        "0oLfGYswun47",
        "HllrhNUxuohF",
        "o0GeGYunhyFV",
        "qF6_gxi6h2ew",
        "OlkpAjtch27q",
        "jzsmsqF8h4lR",
        "Hk93UwQQh6eA",
        "YN_uR7lt_s1n",
        "fH7v1rFL_vZa",
        "Tov3hAMd_wBl",
        "2xzUVXwN_yMk",
        "ryqYIt2n_zFc",
        "vmiHyO_S_zvS",
        "ONtEiEkI_0Tp",
        "0r40Iu_f_1yB",
        "tCIEGIhf_2gj",
        "G9l0Pbw9_5yq",
        "31qqnU2C_6fe",
        "7HECbWJ6_7Bi"
      ],
      "provenance": []
    },
    "kernelspec": {
      "display_name": "Python 3",
      "name": "python3"
    },
    "language_info": {
      "name": "python"
    },
    "widgets": {
      "application/vnd.jupyter.widget-state+json": {
        "51e77a7e81884173a0d07e9429c59bd1": {
          "model_module": "@jupyter-widgets/controls",
          "model_name": "VBoxModel",
          "model_module_version": "1.5.0",
          "state": {
            "_dom_classes": [],
            "_model_module": "@jupyter-widgets/controls",
            "_model_module_version": "1.5.0",
            "_model_name": "VBoxModel",
            "_view_count": null,
            "_view_module": "@jupyter-widgets/controls",
            "_view_module_version": "1.5.0",
            "_view_name": "VBoxView",
            "box_style": "",
            "children": [
              "IPY_MODEL_7eb081f8585a42168e900c0fa3604651",
              "IPY_MODEL_293e765faef04966815775ab372ac54d"
            ],
            "layout": "IPY_MODEL_f8c0e83a5b0a42b482f4e931ec3a746b"
          }
        },
        "7eb081f8585a42168e900c0fa3604651": {
          "model_module": "@jupyter-widgets/controls",
          "model_name": "LabelModel",
          "model_module_version": "1.5.0",
          "state": {
            "_dom_classes": [],
            "_model_module": "@jupyter-widgets/controls",
            "_model_module_version": "1.5.0",
            "_model_name": "LabelModel",
            "_view_count": null,
            "_view_module": "@jupyter-widgets/controls",
            "_view_module_version": "1.5.0",
            "_view_name": "LabelView",
            "description": "",
            "description_tooltip": null,
            "layout": "IPY_MODEL_079b368955de463286e39e2e0438a1ea",
            "placeholder": "​",
            "style": "IPY_MODEL_0afba09ac2fc40c3aef94fb9e3e519fb",
            "value": "0.024 MB of 0.024 MB uploaded\r"
          }
        },
        "293e765faef04966815775ab372ac54d": {
          "model_module": "@jupyter-widgets/controls",
          "model_name": "FloatProgressModel",
          "model_module_version": "1.5.0",
          "state": {
            "_dom_classes": [],
            "_model_module": "@jupyter-widgets/controls",
            "_model_module_version": "1.5.0",
            "_model_name": "FloatProgressModel",
            "_view_count": null,
            "_view_module": "@jupyter-widgets/controls",
            "_view_module_version": "1.5.0",
            "_view_name": "ProgressView",
            "bar_style": "",
            "description": "",
            "description_tooltip": null,
            "layout": "IPY_MODEL_5f4dd1bf238f4d6296ef87f8f90ef658",
            "max": 1,
            "min": 0,
            "orientation": "horizontal",
            "style": "IPY_MODEL_7b439dc9895b4dfca496e1f252821766",
            "value": 1
          }
        },
        "f8c0e83a5b0a42b482f4e931ec3a746b": {
          "model_module": "@jupyter-widgets/base",
          "model_name": "LayoutModel",
          "model_module_version": "1.2.0",
          "state": {
            "_model_module": "@jupyter-widgets/base",
            "_model_module_version": "1.2.0",
            "_model_name": "LayoutModel",
            "_view_count": null,
            "_view_module": "@jupyter-widgets/base",
            "_view_module_version": "1.2.0",
            "_view_name": "LayoutView",
            "align_content": null,
            "align_items": null,
            "align_self": null,
            "border": null,
            "bottom": null,
            "display": null,
            "flex": null,
            "flex_flow": null,
            "grid_area": null,
            "grid_auto_columns": null,
            "grid_auto_flow": null,
            "grid_auto_rows": null,
            "grid_column": null,
            "grid_gap": null,
            "grid_row": null,
            "grid_template_areas": null,
            "grid_template_columns": null,
            "grid_template_rows": null,
            "height": null,
            "justify_content": null,
            "justify_items": null,
            "left": null,
            "margin": null,
            "max_height": null,
            "max_width": null,
            "min_height": null,
            "min_width": null,
            "object_fit": null,
            "object_position": null,
            "order": null,
            "overflow": null,
            "overflow_x": null,
            "overflow_y": null,
            "padding": null,
            "right": null,
            "top": null,
            "visibility": null,
            "width": null
          }
        },
        "079b368955de463286e39e2e0438a1ea": {
          "model_module": "@jupyter-widgets/base",
          "model_name": "LayoutModel",
          "model_module_version": "1.2.0",
          "state": {
            "_model_module": "@jupyter-widgets/base",
            "_model_module_version": "1.2.0",
            "_model_name": "LayoutModel",
            "_view_count": null,
            "_view_module": "@jupyter-widgets/base",
            "_view_module_version": "1.2.0",
            "_view_name": "LayoutView",
            "align_content": null,
            "align_items": null,
            "align_self": null,
            "border": null,
            "bottom": null,
            "display": null,
            "flex": null,
            "flex_flow": null,
            "grid_area": null,
            "grid_auto_columns": null,
            "grid_auto_flow": null,
            "grid_auto_rows": null,
            "grid_column": null,
            "grid_gap": null,
            "grid_row": null,
            "grid_template_areas": null,
            "grid_template_columns": null,
            "grid_template_rows": null,
            "height": null,
            "justify_content": null,
            "justify_items": null,
            "left": null,
            "margin": null,
            "max_height": null,
            "max_width": null,
            "min_height": null,
            "min_width": null,
            "object_fit": null,
            "object_position": null,
            "order": null,
            "overflow": null,
            "overflow_x": null,
            "overflow_y": null,
            "padding": null,
            "right": null,
            "top": null,
            "visibility": null,
            "width": null
          }
        },
        "0afba09ac2fc40c3aef94fb9e3e519fb": {
          "model_module": "@jupyter-widgets/controls",
          "model_name": "DescriptionStyleModel",
          "model_module_version": "1.5.0",
          "state": {
            "_model_module": "@jupyter-widgets/controls",
            "_model_module_version": "1.5.0",
            "_model_name": "DescriptionStyleModel",
            "_view_count": null,
            "_view_module": "@jupyter-widgets/base",
            "_view_module_version": "1.2.0",
            "_view_name": "StyleView",
            "description_width": ""
          }
        },
        "5f4dd1bf238f4d6296ef87f8f90ef658": {
          "model_module": "@jupyter-widgets/base",
          "model_name": "LayoutModel",
          "model_module_version": "1.2.0",
          "state": {
            "_model_module": "@jupyter-widgets/base",
            "_model_module_version": "1.2.0",
            "_model_name": "LayoutModel",
            "_view_count": null,
            "_view_module": "@jupyter-widgets/base",
            "_view_module_version": "1.2.0",
            "_view_name": "LayoutView",
            "align_content": null,
            "align_items": null,
            "align_self": null,
            "border": null,
            "bottom": null,
            "display": null,
            "flex": null,
            "flex_flow": null,
            "grid_area": null,
            "grid_auto_columns": null,
            "grid_auto_flow": null,
            "grid_auto_rows": null,
            "grid_column": null,
            "grid_gap": null,
            "grid_row": null,
            "grid_template_areas": null,
            "grid_template_columns": null,
            "grid_template_rows": null,
            "height": null,
            "justify_content": null,
            "justify_items": null,
            "left": null,
            "margin": null,
            "max_height": null,
            "max_width": null,
            "min_height": null,
            "min_width": null,
            "object_fit": null,
            "object_position": null,
            "order": null,
            "overflow": null,
            "overflow_x": null,
            "overflow_y": null,
            "padding": null,
            "right": null,
            "top": null,
            "visibility": null,
            "width": null
          }
        },
        "7b439dc9895b4dfca496e1f252821766": {
          "model_module": "@jupyter-widgets/controls",
          "model_name": "ProgressStyleModel",
          "model_module_version": "1.5.0",
          "state": {
            "_model_module": "@jupyter-widgets/controls",
            "_model_module_version": "1.5.0",
            "_model_name": "ProgressStyleModel",
            "_view_count": null,
            "_view_module": "@jupyter-widgets/base",
            "_view_module_version": "1.2.0",
            "_view_name": "StyleView",
            "bar_color": null,
            "description_width": ""
          }
        }
      }
    }
  },
  "nbformat": 4,
  "nbformat_minor": 0
}